{
 "cells": [
  {
   "cell_type": "markdown",
   "id": "d68c1dee",
   "metadata": {
    "id": "d68c1dee"
   },
   "source": [
    "# Practical_3: Iterable objects or Containers"
   ]
  },
  {
   "cell_type": "markdown",
   "id": "4906b53e-6c33-4ae4-9d90-094472b953dc",
   "metadata": {
    "id": "bea983a3"
   },
   "source": [
    "---\n",
    "\n",
    "### Exercise 1:\n",
    "Create a list of integers from 1 to 10."
   ]
  },
  {
   "cell_type": "code",
   "execution_count": 169,
   "id": "c66a2c6c-5071-4bfa-9eb6-6f2f66541658",
   "metadata": {},
   "outputs": [],
   "source": [
    "my_int = [1, 2, 3, 4, 5, 6, 7, 9,]"
   ]
  },
  {
   "cell_type": "code",
   "execution_count": 170,
   "id": "c9b13c12-e7e3-4691-982d-0351784f3ef2",
   "metadata": {},
   "outputs": [
    {
     "data": {
      "text/plain": [
       "[1, 2, 3, 4, 5, 6, 7, 9]"
      ]
     },
     "execution_count": 170,
     "metadata": {},
     "output_type": "execute_result"
    }
   ],
   "source": [
    "my_int"
   ]
  },
  {
   "cell_type": "markdown",
   "id": "66bee196-e3c4-46e1-b02f-45a53afdd0fb",
   "metadata": {
    "id": "bea983a3"
   },
   "source": [
    "---\n",
    "\n",
    "### Exercise 2:\n",
    "Create a tuple containing the elements `\"apple\"`, `\"banana\"`, and `\"cherry\"`."
   ]
  },
  {
   "cell_type": "code",
   "execution_count": 171,
   "id": "3764d211-6d71-4b51-84bb-b140e040e6ea",
   "metadata": {},
   "outputs": [],
   "source": [
    "my_tuple = (\"apple\", \"banana\", \"cherry\")"
   ]
  },
  {
   "cell_type": "code",
   "execution_count": 172,
   "id": "20f57338-780b-4a9c-8737-fb57d526fe93",
   "metadata": {},
   "outputs": [
    {
     "data": {
      "text/plain": [
       "('apple', 'banana', 'cherry')"
      ]
     },
     "execution_count": 172,
     "metadata": {},
     "output_type": "execute_result"
    }
   ],
   "source": [
    "my_tuple"
   ]
  },
  {
   "cell_type": "code",
   "execution_count": 173,
   "id": "c2b00c5c-4a26-492c-9646-c2fd3f73f45c",
   "metadata": {},
   "outputs": [
    {
     "data": {
      "text/plain": [
       "tuple"
      ]
     },
     "execution_count": 173,
     "metadata": {},
     "output_type": "execute_result"
    }
   ],
   "source": [
    "type(my_tuple)"
   ]
  },
  {
   "cell_type": "markdown",
   "id": "0cbc25ce-9fef-4b36-8fcc-79590e95695f",
   "metadata": {
    "id": "bea983a3"
   },
   "source": [
    "### Exercise 3:\n",
    "Convert the list `numbers = [10, 20, 30, 40]` into a tuple."
   ]
  },
  {
   "cell_type": "code",
   "execution_count": 174,
   "id": "103c9dbb-4e4c-4667-a42f-536e088701ec",
   "metadata": {},
   "outputs": [],
   "source": [
    "numbers = [10, 20, 30, 40]"
   ]
  },
  {
   "cell_type": "code",
   "execution_count": 175,
   "id": "8511a225-4a8f-4a55-9845-f5028b91ceda",
   "metadata": {},
   "outputs": [],
   "source": [
    "tuple_2 =tuple(numbers)"
   ]
  },
  {
   "cell_type": "code",
   "execution_count": 176,
   "id": "0ba4ec3a-4552-48c0-966e-7f2a8ca2b298",
   "metadata": {},
   "outputs": [
    {
     "data": {
      "text/plain": [
       "(10, 20, 30, 40)"
      ]
     },
     "execution_count": 176,
     "metadata": {},
     "output_type": "execute_result"
    }
   ],
   "source": [
    "tuple_2"
   ]
  },
  {
   "cell_type": "code",
   "execution_count": 177,
   "id": "5fdcee58-fa0b-422d-a108-f24f9683c580",
   "metadata": {},
   "outputs": [
    {
     "data": {
      "text/plain": [
       "tuple"
      ]
     },
     "execution_count": 177,
     "metadata": {},
     "output_type": "execute_result"
    }
   ],
   "source": [
    "type(tuple_2)"
   ]
  },
  {
   "cell_type": "markdown",
   "id": "714bba74-7fce-4db1-ae37-27a32b6b5ec3",
   "metadata": {
    "id": "bea983a3"
   },
   "source": []
  },
  {
   "cell_type": "markdown",
   "id": "8e4244c0-c0e6-4002-ab74-fc0ae7c9f4d8",
   "metadata": {
    "id": "bea983a3"
   },
   "source": [
    "### Exercise 4:\n",
    "Create a set containing the elements `1, 2, 3, 4, 5`."
   ]
  },
  {
   "cell_type": "code",
   "execution_count": 184,
   "id": "3dfe484b-27e3-4d0f-80d4-0be5b79f1e49",
   "metadata": {},
   "outputs": [],
   "source": [
    "my_set = {1, 2, 3, 4, 5}"
   ]
  },
  {
   "cell_type": "code",
   "execution_count": 185,
   "id": "6e77cb61-7a1b-41ca-891d-6efb944f3a18",
   "metadata": {},
   "outputs": [
    {
     "data": {
      "text/plain": [
       "{1, 2, 3, 4, 5}"
      ]
     },
     "execution_count": 185,
     "metadata": {},
     "output_type": "execute_result"
    }
   ],
   "source": [
    "my_set"
   ]
  },
  {
   "cell_type": "code",
   "execution_count": 187,
   "id": "a531badc-e310-43c8-bc5c-a9bece3c8f41",
   "metadata": {},
   "outputs": [
    {
     "data": {
      "text/plain": [
       "set"
      ]
     },
     "execution_count": 187,
     "metadata": {},
     "output_type": "execute_result"
    }
   ],
   "source": [
    "type(my_set)"
   ]
  },
  {
   "cell_type": "markdown",
   "id": "e7ab14e0-77d5-4d64-a0ed-a76b07b47b5f",
   "metadata": {
    "id": "bea983a3"
   },
   "source": [
    "### Exercise 5:\n",
    "Create a dictionary `student` with the keys `\"name\"`, `\"age\"`, and `\"grade\"` and corresponding values `\"Alice\"`, `20`, and `\"A\"`."
   ]
  },
  {
   "cell_type": "code",
   "execution_count": 188,
   "id": "115e1bec-425f-4ed6-9672-0934fccc6678",
   "metadata": {},
   "outputs": [],
   "source": [
    "student = {\"name\": \"Alice\", \"age\": 20, \"grade\": \"A\"}"
   ]
  },
  {
   "cell_type": "code",
   "execution_count": 189,
   "id": "f7e0037c-fecc-4814-adaf-6e86fe048367",
   "metadata": {},
   "outputs": [
    {
     "data": {
      "text/plain": [
       "{'name': 'Alice', 'age': 20, 'grade': 'A'}"
      ]
     },
     "execution_count": 189,
     "metadata": {},
     "output_type": "execute_result"
    }
   ],
   "source": [
    "student"
   ]
  },
  {
   "cell_type": "code",
   "execution_count": 190,
   "id": "e8c804a9-3efd-4f22-b768-ce95d1df86c7",
   "metadata": {},
   "outputs": [
    {
     "data": {
      "text/plain": [
       "dict"
      ]
     },
     "execution_count": 190,
     "metadata": {},
     "output_type": "execute_result"
    }
   ],
   "source": [
    "type(student)"
   ]
  },
  {
   "cell_type": "markdown",
   "id": "dea1b001-6f35-4d9d-bfb8-99c2ea0e6b89",
   "metadata": {
    "id": "bea983a3"
   },
   "source": [
    "### Exercise 6:\n",
    "Access the second element of the list `[10, 20, 30, 40, 50]` using indexing."
   ]
  },
  {
   "cell_type": "code",
   "execution_count": 191,
   "id": "5add0784-ea5b-45c6-a0c6-b258dbc0b54c",
   "metadata": {},
   "outputs": [],
   "source": [
    "list_1 = [10, 20, 30, 40, 50 ]"
   ]
  },
  {
   "cell_type": "code",
   "execution_count": 192,
   "id": "9e21818f-0f19-442a-8bb2-32896e94b355",
   "metadata": {},
   "outputs": [
    {
     "name": "stdout",
     "output_type": "stream",
     "text": [
      "20\n"
     ]
    }
   ],
   "source": [
    "print(list_1[1])"
   ]
  },
  {
   "cell_type": "markdown",
   "id": "39e6e0e8-55a8-448e-b147-8d9d877bef9b",
   "metadata": {
    "id": "bea983a3"
   },
   "source": [
    "### Exercise 7:\n",
    "Change the third element of the list `fruits = [\"apple\", \"banana\", \"cherry\", \"orange\"]` to `\"mango\"`."
   ]
  },
  {
   "cell_type": "code",
   "execution_count": 193,
   "id": "e621f7ec-9c2f-43a3-a9f4-9a6b2c779b97",
   "metadata": {},
   "outputs": [],
   "source": [
    "fruits = [\"apple\", \"banana\", \"cherry\", \"orange\"]"
   ]
  },
  {
   "cell_type": "code",
   "execution_count": 194,
   "id": "c94b3f9a-1b85-4e18-a03d-3a55551d91a1",
   "metadata": {},
   "outputs": [],
   "source": [
    "fruits[2]= \"mango\""
   ]
  },
  {
   "cell_type": "code",
   "execution_count": 195,
   "id": "8c6a1f85-a96b-47e4-a65b-1737d0e6eb83",
   "metadata": {},
   "outputs": [
    {
     "name": "stdout",
     "output_type": "stream",
     "text": [
      "['apple', 'banana', 'mango', 'orange']\n"
     ]
    }
   ],
   "source": [
    "print(fruits)"
   ]
  },
  {
   "cell_type": "code",
   "execution_count": 196,
   "id": "137658de-a3ac-4509-b483-7af009bbdede",
   "metadata": {},
   "outputs": [
    {
     "data": {
      "text/plain": [
       "list"
      ]
     },
     "execution_count": 196,
     "metadata": {},
     "output_type": "execute_result"
    }
   ],
   "source": [
    "type(fruits)"
   ]
  },
  {
   "cell_type": "markdown",
   "id": "0a881e37-34d2-44a4-818f-18651af58f9e",
   "metadata": {
    "id": "bea983a3"
   },
   "source": [
    "### Exercise 8:\n",
    "Add the number `6` to the set `numbers = {1, 2, 3, 4, 5}`."
   ]
  },
  {
   "cell_type": "code",
   "execution_count": 197,
   "id": "f200897f-ea24-4446-ba8c-9023ecabb832",
   "metadata": {},
   "outputs": [],
   "source": [
    "numbers = {1, 2, 3, 4, 5}"
   ]
  },
  {
   "cell_type": "code",
   "execution_count": 198,
   "id": "73878f7e-af39-4016-88e5-f8a90313f363",
   "metadata": {},
   "outputs": [],
   "source": [
    "num2 = numbers.add(6)"
   ]
  },
  {
   "cell_type": "code",
   "execution_count": 199,
   "id": "3e87e26d-3a61-4e38-abac-ef40b3a59ad4",
   "metadata": {},
   "outputs": [
    {
     "data": {
      "text/plain": [
       "{1, 2, 3, 4, 5, 6}"
      ]
     },
     "execution_count": 199,
     "metadata": {},
     "output_type": "execute_result"
    }
   ],
   "source": [
    "numbers"
   ]
  },
  {
   "cell_type": "code",
   "execution_count": 200,
   "id": "14990e2f-7918-498b-857d-47bb7c2af281",
   "metadata": {},
   "outputs": [
    {
     "data": {
      "text/plain": [
       "set"
      ]
     },
     "execution_count": 200,
     "metadata": {},
     "output_type": "execute_result"
    }
   ],
   "source": [
    "type(numbers)"
   ]
  },
  {
   "cell_type": "markdown",
   "id": "c9edac04-0bf4-4018-a385-be2c8a15d56f",
   "metadata": {},
   "source": [
    "using the method append"
   ]
  },
  {
   "cell_type": "markdown",
   "id": "a8142835-aeef-4e18-a2e3-3bed53aee6fd",
   "metadata": {
    "id": "bea983a3"
   },
   "source": [
    "### Exercise 9:\n",
    "Remove the key `\"age\"` from the dictionary `person = {\"name\": \"John\", \"age\": 25, \"city\": \"New York\"}`."
   ]
  },
  {
   "cell_type": "code",
   "execution_count": 208,
   "id": "57fd0e81-ed75-4d48-9efa-74c12c20bfca",
   "metadata": {},
   "outputs": [],
   "source": [
    "person = {\"name\": \"John\",\"age\": 25, \"city\": \"New York\"}"
   ]
  },
  {
   "cell_type": "code",
   "execution_count": 212,
   "id": "2ca9a52d-4c22-4bb3-9ce8-badfb31f6d57",
   "metadata": {},
   "outputs": [],
   "source": [
    "del person ['age']"
   ]
  },
  {
   "cell_type": "code",
   "execution_count": 213,
   "id": "34604f06-c1d4-4870-ad7f-3b8ba51582b8",
   "metadata": {},
   "outputs": [
    {
     "data": {
      "text/plain": [
       "{'name': 'John', 'city': 'New York'}"
      ]
     },
     "execution_count": 213,
     "metadata": {},
     "output_type": "execute_result"
    }
   ],
   "source": [
    "person"
   ]
  },
  {
   "cell_type": "markdown",
   "id": "eee83a14-0a64-490c-9e09-c3485d0787bb",
   "metadata": {
    "id": "bea983a3"
   },
   "source": [
    "---\n",
    "\n",
    "### Exercise 10:\n",
    "Create a range object starting from 0 to 9."
   ]
  },
  {
   "cell_type": "code",
   "execution_count": 214,
   "id": "12193d5b-2989-4660-a2a8-3e80393ee178",
   "metadata": {},
   "outputs": [],
   "source": [
    "x = range(10)"
   ]
  },
  {
   "cell_type": "code",
   "execution_count": 217,
   "id": "992ee314-9d08-4857-98d0-d19cc047b4f4",
   "metadata": {},
   "outputs": [
    {
     "name": "stdout",
     "output_type": "stream",
     "text": [
      "[0, 1, 2, 3, 4, 5, 6, 7, 8, 9]\n"
     ]
    }
   ],
   "source": [
    "print(list(x))"
   ]
  },
  {
   "cell_type": "markdown",
   "id": "42fbab87-e9b3-405a-91b6-6ead3a7ab428",
   "metadata": {
    "id": "bea983a3"
   },
   "source": [
    "---\n",
    "\n",
    "### Exercise 11:\n",
    "Use a list comprehension to create a list of squares of numbers from 1 to 10."
   ]
  },
  {
   "cell_type": "code",
   "execution_count": 220,
   "id": "d06d0c3c-62a8-4d3b-80ed-0e0301ea9d3b",
   "metadata": {},
   "outputs": [],
   "source": [
    "a = [x**2 for x in range(1,11) if x % 2 ==0]"
   ]
  },
  {
   "cell_type": "code",
   "execution_count": 221,
   "id": "1a9755b0-a293-4073-830e-c1d535b1a0d3",
   "metadata": {},
   "outputs": [
    {
     "data": {
      "text/plain": [
       "[4, 16, 36, 64, 100]"
      ]
     },
     "execution_count": 221,
     "metadata": {},
     "output_type": "execute_result"
    }
   ],
   "source": [
    "a"
   ]
  },
  {
   "cell_type": "markdown",
   "id": "062da6ba-84ef-42dc-befa-6fd488092d3b",
   "metadata": {
    "id": "bea983a3"
   },
   "source": [
    "### Exercise 12:\n",
    "Create a tuple of even numbers between 2 and 10 using a tuple comprehension."
   ]
  },
  {
   "cell_type": "code",
   "execution_count": 224,
   "id": "ed97f1c2-88ee-454d-b91b-d04e8dc3569f",
   "metadata": {},
   "outputs": [],
   "source": [
    "even_numbers = tuple(x for x in range(2,11) if x % 2 ==0 )"
   ]
  },
  {
   "cell_type": "code",
   "execution_count": 225,
   "id": "6a71737e-bcbe-41a8-8169-b80eba934196",
   "metadata": {},
   "outputs": [
    {
     "data": {
      "text/plain": [
       "(2, 4, 6, 8, 10)"
      ]
     },
     "execution_count": 225,
     "metadata": {},
     "output_type": "execute_result"
    }
   ],
   "source": [
    "even_numbers"
   ]
  },
  {
   "cell_type": "markdown",
   "id": "f29374ab-4c42-450b-8211-69776e800973",
   "metadata": {
    "id": "bea983a3"
   },
   "source": [
    "### Exercise 13:\n",
    "Use a for loop to iterate through the list `fruits = [\"apple\", \"banana\", \"cherry\"]` and print each element."
   ]
  },
  {
   "cell_type": "code",
   "execution_count": 226,
   "id": "9c7cd47e-4f2a-446b-87bf-22f7be2afeae",
   "metadata": {},
   "outputs": [],
   "source": [
    "fruits = [\"apple\", \"banana\", \"cherry\"]"
   ]
  },
  {
   "cell_type": "code",
   "execution_count": 227,
   "id": "5bf844ab-15ec-4b02-9c93-daa462081454",
   "metadata": {},
   "outputs": [
    {
     "name": "stdout",
     "output_type": "stream",
     "text": [
      "['apple', 'banana', 'cherry']\n",
      "['apple', 'banana', 'cherry']\n",
      "['apple', 'banana', 'cherry']\n"
     ]
    }
   ],
   "source": [
    "for fruit in fruits:\n",
    "    print(fruits)"
   ]
  },
  {
   "cell_type": "markdown",
   "id": "e788c23b-8799-4d16-ac29-b41dd5734831",
   "metadata": {
    "id": "bea983a3"
   },
   "source": [
    "```python\n",
    "# Exercise 13\n",
    "```\n",
    "\n",
    "---\n",
    "\n",
    "### Exercise 14:\n",
    "Check if the value `3` exists in the set `numbers = {1, 2, 3, 4, 5}`."
   ]
  },
  {
   "cell_type": "markdown",
   "id": "1ca5cbd8-bc7a-4c67-beea-7130e83eb864",
   "metadata": {
    "id": "bea983a3"
   },
   "source": [
    "```python\n",
    "# Exercise 14\n",
    "```"
   ]
  },
  {
   "cell_type": "code",
   "execution_count": 229,
   "id": "40103855-7705-4cab-b297-0b57cfe0d47b",
   "metadata": {},
   "outputs": [],
   "source": [
    "numbers = {1, 2, 3, 4, 5}"
   ]
  },
  {
   "cell_type": "code",
   "execution_count": 231,
   "id": "92c9e081-259e-449c-b6d1-a7e646e2acef",
   "metadata": {},
   "outputs": [
    {
     "name": "stdout",
     "output_type": "stream",
     "text": [
      "3 exist in numbers\n"
     ]
    }
   ],
   "source": [
    "if 3 in numbers:\n",
    "    print('3 exist in numbers')\n",
    "else:\n",
    "    print('3 does not exist')"
   ]
  },
  {
   "cell_type": "markdown",
   "id": "5a6a8bf6-0541-4a39-b35b-ff276e4e2673",
   "metadata": {
    "id": "bea983a3"
   },
   "source": [
    "---\n",
    "\n",
    "### Exercise 15:\n",
    "Use the `len()` function to find the length of the tuple `numbers = (10, 20, 30)`.\n",
    "\n",
    "```python\n",
    "# Exercise 15\n",
    "```"
   ]
  },
  {
   "cell_type": "code",
   "execution_count": 234,
   "id": "7dd028f8-2317-443c-847d-7d292b203553",
   "metadata": {},
   "outputs": [],
   "source": [
    "numbers = (10, 20, 30)"
   ]
  },
  {
   "cell_type": "code",
   "execution_count": 235,
   "id": "c18c6471-a353-4b0b-b928-af3ead59c21f",
   "metadata": {},
   "outputs": [
    {
     "data": {
      "text/plain": [
       "3"
      ]
     },
     "execution_count": 235,
     "metadata": {},
     "output_type": "execute_result"
    }
   ],
   "source": [
    "len(numbers)"
   ]
  },
  {
   "cell_type": "markdown",
   "id": "133321a7-a501-4efe-9d67-9a9ceca51e57",
   "metadata": {
    "id": "bea983a3"
   },
   "source": [
    "### Exercise 16:\n",
    "Add the value `100` at the end of the list `scores = [80, 85, 90, 95]`.\n",
    "\n",
    "```python\n",
    "# Exercise 16\n",
    "```"
   ]
  },
  {
   "cell_type": "code",
   "execution_count": 232,
   "id": "523cc3c3-acf1-45be-ae8d-0ce9f7a67a71",
   "metadata": {},
   "outputs": [],
   "source": [
    "scores = [80, 85, 90, 95]"
   ]
  },
  {
   "cell_type": "code",
   "execution_count": 236,
   "id": "d2600e12-7bd5-40f3-806c-1a2f473f5d2c",
   "metadata": {},
   "outputs": [],
   "source": [
    "scores.append(100)"
   ]
  },
  {
   "cell_type": "code",
   "execution_count": 237,
   "id": "10239fc7-2c26-412b-b008-4733d28f546f",
   "metadata": {},
   "outputs": [
    {
     "data": {
      "text/plain": [
       "[80, 85, 90, 95, 100]"
      ]
     },
     "execution_count": 237,
     "metadata": {},
     "output_type": "execute_result"
    }
   ],
   "source": [
    "scores"
   ]
  },
  {
   "cell_type": "markdown",
   "id": "7a1d4bad-0dd9-41b1-8bdd-6ca28e077929",
   "metadata": {
    "id": "bea983a3"
   },
   "source": [
    "### Exercise 17:\n",
    "Write a function that takes a list as input and returns the sum of all elements in the list."
   ]
  },
  {
   "cell_type": "code",
   "execution_count": 239,
   "id": "425430ec-4120-453f-857b-f91fe9a0be5d",
   "metadata": {
    "id": "bea983a3",
    "jp-MarkdownHeadingCollapsed": true
   },
   "outputs": [],
   "source": [
    "a = [10, 20, 30, 40]"
   ]
  },
  {
   "cell_type": "code",
   "execution_count": 240,
   "id": "bd28065d-a2e9-4f77-ba2c-a8f362e3ab14",
   "metadata": {},
   "outputs": [],
   "source": [
    "result = sum(a)"
   ]
  },
  {
   "cell_type": "code",
   "execution_count": 241,
   "id": "48f8e7fb-086c-43fe-ab90-3cb1ffe3b513",
   "metadata": {},
   "outputs": [
    {
     "data": {
      "text/plain": [
       "100"
      ]
     },
     "execution_count": 241,
     "metadata": {},
     "output_type": "execute_result"
    }
   ],
   "source": [
    "result"
   ]
  },
  {
   "cell_type": "markdown",
   "id": "a85cc59e-8073-40b0-baa3-805cf4035d08",
   "metadata": {
    "id": "bea983a3"
   },
   "source": [
    "---\n",
    "\n",
    "### Exercise 18:\n",
    "Create a set containing the unique elements of the list `numbers = [1, 2, 2, 3, 4, 4, 5]`.\n",
    "\n",
    "```python\n",
    "# Exercise 18\n",
    "```"
   ]
  },
  {
   "cell_type": "code",
   "execution_count": 242,
   "id": "10d2f8b3-edf4-450e-bf86-caade89a9d33",
   "metadata": {},
   "outputs": [],
   "source": [
    "numbers = [1, 2, 2, 3, 4, 4, 5]"
   ]
  },
  {
   "cell_type": "code",
   "execution_count": 243,
   "id": "f94f579a-b040-4004-87d8-914cf1724aca",
   "metadata": {},
   "outputs": [],
   "source": [
    "my_list = list(set(numbers))"
   ]
  },
  {
   "cell_type": "code",
   "execution_count": 244,
   "id": "5320bf67-8258-470d-8e3e-4aa3f003ab38",
   "metadata": {},
   "outputs": [
    {
     "data": {
      "text/plain": [
       "[1, 2, 3, 4, 5]"
      ]
     },
     "execution_count": 244,
     "metadata": {},
     "output_type": "execute_result"
    }
   ],
   "source": [
    "my_list"
   ]
  },
  {
   "cell_type": "markdown",
   "id": "02e3093f-b4ad-46b2-a4e8-45dc30403da1",
   "metadata": {
    "id": "bea983a3"
   },
   "source": [
    "---\n",
    "\n",
    "### Exercise 19:\n",
    "Convert the string `\"hello\"` into a list of characters.\n",
    "\n",
    "```python\n",
    "# Exercise 19\n",
    "```"
   ]
  },
  {
   "cell_type": "code",
   "execution_count": 256,
   "id": "6e973e83-7132-4570-999a-218fda2a264f",
   "metadata": {},
   "outputs": [],
   "source": [
    "text = \"hello\""
   ]
  },
  {
   "cell_type": "code",
   "execution_count": 269,
   "id": "b8155703-47b0-4374-b33d-15b07ffd880c",
   "metadata": {},
   "outputs": [],
   "source": [
    "b = list(text)"
   ]
  },
  {
   "cell_type": "code",
   "execution_count": 270,
   "id": "eb67c7bf-fd50-41e0-a40f-2e6d9d51d040",
   "metadata": {},
   "outputs": [
    {
     "data": {
      "text/plain": [
       "['h', 'e', 'l', 'l', 'o']"
      ]
     },
     "execution_count": 270,
     "metadata": {},
     "output_type": "execute_result"
    }
   ],
   "source": [
    "b"
   ]
  },
  {
   "cell_type": "markdown",
   "id": "b8a5bee2-bab3-4838-8b1b-f513c5b77a34",
   "metadata": {
    "id": "bea983a3"
   },
   "source": [
    "---\n",
    "\n",
    "### Exercise 20:\n",
    "Write a Python function that reverses a tuple `(1, 2, 3, 4)`."
   ]
  },
  {
   "cell_type": "code",
   "execution_count": 271,
   "id": "958f9779-3dff-4e89-87a3-98cd78d7429e",
   "metadata": {},
   "outputs": [],
   "source": [
    "numbers = (1, 2, 3, 4)"
   ]
  },
  {
   "cell_type": "code",
   "execution_count": 272,
   "id": "34e69892-0269-49e2-afc3-5bae1dde53f6",
   "metadata": {},
   "outputs": [
    {
     "name": "stdout",
     "output_type": "stream",
     "text": [
      "(4, 3, 2, 1)\n"
     ]
    }
   ],
   "source": [
    "print(numbers[::-1])"
   ]
  },
  {
   "cell_type": "markdown",
   "id": "164bce48-c996-4ad9-9fda-3d45c0928e52",
   "metadata": {
    "id": "bea983a3"
   },
   "source": [
    "### Exercise 21:\n",
    "Merge two dictionaries `dict1 = {\"a\": 1, \"b\": 2}` and `dict2 = {\"c\": 3, \"d\": 4}` into a single dictionary.\n",
    "\n",
    "```python\n",
    "# Exercise 21\n",
    "```"
   ]
  },
  {
   "cell_type": "code",
   "execution_count": 4,
   "id": "458c2839-0895-4cba-b9ce-b5e197ff9243",
   "metadata": {},
   "outputs": [],
   "source": [
    "dict1 = {\"a\": 1, \"b\": 2}"
   ]
  },
  {
   "cell_type": "code",
   "execution_count": 5,
   "id": "2dc0d820-06d3-44ea-8713-ad2ee1e287ff",
   "metadata": {},
   "outputs": [],
   "source": [
    "dict2 = {\"c\": 3, \"d\": 4}"
   ]
  },
  {
   "cell_type": "code",
   "execution_count": 6,
   "id": "0ee37052-6841-4ba7-97cd-3b7f7384dd35",
   "metadata": {},
   "outputs": [],
   "source": [
    "dict1.update(dict2)"
   ]
  },
  {
   "cell_type": "code",
   "execution_count": 7,
   "id": "e62eb2f4-aa4a-4ff5-a961-ae5821e117e0",
   "metadata": {},
   "outputs": [
    {
     "data": {
      "text/plain": [
       "{'a': 1, 'b': 2, 'c': 3, 'd': 4}"
      ]
     },
     "execution_count": 7,
     "metadata": {},
     "output_type": "execute_result"
    }
   ],
   "source": [
    "dict1"
   ]
  },
  {
   "cell_type": "code",
   "execution_count": null,
   "id": "b8039209-63c8-4bd5-8eb8-bf3ef93cfc8d",
   "metadata": {},
   "outputs": [],
   "source": []
  },
  {
   "cell_type": "markdown",
   "id": "659b8a63-3fe9-4e49-8bb2-53dcc594d3f0",
   "metadata": {
    "id": "bea983a3"
   },
   "source": [
    "---\n",
    "\n",
    "### Exercise 22:\n",
    "Create a dictionary where keys are numbers from 1 to 5, and values are their squares."
   ]
  },
  {
   "cell_type": "code",
   "execution_count": 285,
   "id": "b3bf6441-9124-4703-8b12-0d53b1dc0e07",
   "metadata": {},
   "outputs": [],
   "source": [
    "numbers = {i:i**2 for i in range(1,6)}"
   ]
  },
  {
   "cell_type": "code",
   "execution_count": 286,
   "id": "0e6aaeba-2d10-4615-9bfb-0fa1f90d410f",
   "metadata": {},
   "outputs": [
    {
     "data": {
      "text/plain": [
       "{1: 1, 2: 4, 3: 9, 4: 16, 5: 25}"
      ]
     },
     "execution_count": 286,
     "metadata": {},
     "output_type": "execute_result"
    }
   ],
   "source": [
    "numbers"
   ]
  },
  {
   "cell_type": "code",
   "execution_count": null,
   "id": "72c140bc-3957-4147-89d6-6a4a1da7550b",
   "metadata": {},
   "outputs": [],
   "source": []
  },
  {
   "cell_type": "markdown",
   "id": "ff512d55-2777-4dc1-9b85-a85c4d530345",
   "metadata": {
    "id": "bea983a3"
   },
   "source": [
    "---\n",
    "\n",
    "### Exercise 23:\n",
    "Write a Python program to iterate through a dictionary and print each key-value pair.\n",
    "\n",
    "```python\n",
    "# Exercise 23\n",
    "```"
   ]
  },
  {
   "cell_type": "code",
   "execution_count": 287,
   "id": "3388b8a5-06dd-4075-b9de-0ab65f045351",
   "metadata": {},
   "outputs": [],
   "source": [
    "x = {\"a\": 1, \"b\": 2, \"c\": 3, \"d\": 4}"
   ]
  },
  {
   "cell_type": "code",
   "execution_count": 288,
   "id": "42e18198-04da-4506-a084-e928eb68658e",
   "metadata": {},
   "outputs": [
    {
     "name": "stdout",
     "output_type": "stream",
     "text": [
      "('a', 1)\n",
      "('b', 2)\n",
      "('c', 3)\n",
      "('d', 4)\n"
     ]
    }
   ],
   "source": [
    "for x in x.items():\n",
    "    print(x)"
   ]
  },
  {
   "cell_type": "code",
   "execution_count": null,
   "id": "943ee2b5-8669-4e88-b3d1-7b9a6a00c30b",
   "metadata": {},
   "outputs": [],
   "source": []
  },
  {
   "cell_type": "markdown",
   "id": "5906d06c-c532-40ed-9c02-38c611cd05f1",
   "metadata": {
    "id": "bea983a3"
   },
   "source": [
    "---\n",
    "\n",
    "### Exercise 24:\n",
    "Create a list of the first 5 letters of the alphabet using the `chr()` function.\n",
    "\n",
    "```python\n",
    "# Exercise 24\n",
    "```"
   ]
  },
  {
   "cell_type": "code",
   "execution_count": 296,
   "id": "028da108-a6fd-4f1e-888d-344c4be7237d",
   "metadata": {},
   "outputs": [],
   "source": [
    "my_list = [chr(x) for x in range(67,72)]"
   ]
  },
  {
   "cell_type": "code",
   "execution_count": 297,
   "id": "b7521ed0-e021-49d2-b907-39e9957ab0f9",
   "metadata": {},
   "outputs": [
    {
     "data": {
      "text/plain": [
       "['C', 'D', 'E', 'F', 'G']"
      ]
     },
     "execution_count": 297,
     "metadata": {},
     "output_type": "execute_result"
    }
   ],
   "source": [
    "my_list"
   ]
  },
  {
   "cell_type": "markdown",
   "id": "2dbe8267-828e-4b23-b14a-2a510210c4e9",
   "metadata": {
    "id": "bea983a3"
   },
   "source": [
    "---\n",
    "\n",
    "### Exercise 25:\n",
    "Use the `zip()` function to combine two lists `[1, 2, 3]` and `[\"a\", \"b\", \"c\"]` into a list of tuples.\n",
    "\n",
    "```python\n",
    "# Exercise 25\n",
    "```"
   ]
  },
  {
   "cell_type": "code",
   "execution_count": 8,
   "id": "13946ca9-dc5f-40c5-90a1-c7535c3e49ab",
   "metadata": {},
   "outputs": [],
   "source": [
    "c = [1, 2, 3]"
   ]
  },
  {
   "cell_type": "code",
   "execution_count": 9,
   "id": "7c729d5a-005f-4898-b92f-03d492020dd5",
   "metadata": {},
   "outputs": [],
   "source": [
    "d = [\"a\",\"b\", \"c\"]"
   ]
  },
  {
   "cell_type": "code",
   "execution_count": 11,
   "id": "d9df4de0-608a-4f9b-a693-f7807338ccc1",
   "metadata": {},
   "outputs": [
    {
     "data": {
      "text/plain": [
       "[(1, 'a'), (2, 'b'), (3, 'c')]"
      ]
     },
     "execution_count": 11,
     "metadata": {},
     "output_type": "execute_result"
    }
   ],
   "source": [
    "[x for x in zip(c,d)]"
   ]
  },
  {
   "cell_type": "markdown",
   "id": "ee0f55ec-98d8-493d-a8bd-4f06bd0b3321",
   "metadata": {
    "id": "bea983a3"
   },
   "source": [
    "---\n",
    "\n",
    "### Exercise 26:\n",
    "Find the index of the value `50` in the list `[10, 20, 30, 40, 50]`.\n",
    "\n",
    "```python\n",
    "# Exercise 26\n",
    "```"
   ]
  },
  {
   "cell_type": "code",
   "execution_count": 21,
   "id": "5c1e3271-5d28-484c-87e3-d01c488a2a3d",
   "metadata": {
    "id": "bea983a3"
   },
   "outputs": [],
   "source": [
    "number = [10, 20, 30, 40, 50]"
   ]
  },
  {
   "cell_type": "code",
   "execution_count": 22,
   "id": "705f3738-6d01-465a-8119-208bbbd83896",
   "metadata": {},
   "outputs": [
    {
     "data": {
      "text/plain": [
       "4"
      ]
     },
     "execution_count": 22,
     "metadata": {},
     "output_type": "execute_result"
    }
   ],
   "source": [
    "number.index(50)"
   ]
  },
  {
   "cell_type": "code",
   "execution_count": null,
   "id": "89b96df2-653f-45e2-ba4a-6b34d6b17193",
   "metadata": {},
   "outputs": [],
   "source": []
  },
  {
   "cell_type": "code",
   "execution_count": null,
   "id": "341fe69f-ba0a-4e4e-b325-fcc2665d7c04",
   "metadata": {},
   "outputs": [],
   "source": []
  },
  {
   "cell_type": "markdown",
   "id": "2b929322-5d69-4de6-ac69-cf8ccdb6782d",
   "metadata": {
    "id": "bea983a3",
    "jp-MarkdownHeadingCollapsed": true
   },
   "source": [
    "---\n",
    "\n",
    "### Exercise 27:\n",
    "Sort the list `names = [\"Alice\", \"Bob\", \"Charlie\", \"David\"]` in alphabetical order."
   ]
  },
  {
   "cell_type": "code",
   "execution_count": 3,
   "id": "1a0977fd-bbc9-4992-bba0-2f5bf2938e78",
   "metadata": {},
   "outputs": [],
   "source": [
    "names = [\"ALice\", \"Bob\", \"Charlie\", \"David\"]"
   ]
  },
  {
   "cell_type": "code",
   "execution_count": 5,
   "id": "6d817066-672a-4843-b8d7-9de7adf09f9e",
   "metadata": {},
   "outputs": [],
   "source": [
    "names.sort()"
   ]
  },
  {
   "cell_type": "code",
   "execution_count": 6,
   "id": "e67d47eb-78f5-4795-bfbc-7b7351af479a",
   "metadata": {},
   "outputs": [
    {
     "data": {
      "text/plain": [
       "['ALice', 'Bob', 'Charlie', 'David']"
      ]
     },
     "execution_count": 6,
     "metadata": {},
     "output_type": "execute_result"
    }
   ],
   "source": [
    "names"
   ]
  },
  {
   "cell_type": "markdown",
   "id": "dc3635d5-849f-4f26-9f30-1aedbd2fec46",
   "metadata": {
    "id": "bea983a3"
   },
   "source": [
    "---\n",
    "\n",
    "### Exercise 28:\n",
    "Write a Python function that takes a list of integers as input and returns the largest number."
   ]
  },
  {
   "cell_type": "code",
   "execution_count": 9,
   "id": "487edace-8a41-46e8-84b6-ea9f2bd597e5",
   "metadata": {},
   "outputs": [],
   "source": [
    "num = [1,2,3,4]"
   ]
  },
  {
   "cell_type": "code",
   "execution_count": 10,
   "id": "ae5e4db0-a77e-4c44-a767-a7856b33609e",
   "metadata": {},
   "outputs": [],
   "source": [
    "largest = max(num)"
   ]
  },
  {
   "cell_type": "code",
   "execution_count": 11,
   "id": "684e8fdd-756e-4d82-82d8-96c292ec6143",
   "metadata": {},
   "outputs": [
    {
     "name": "stdout",
     "output_type": "stream",
     "text": [
      "4\n"
     ]
    }
   ],
   "source": [
    "print(largest)"
   ]
  },
  {
   "cell_type": "markdown",
   "id": "494e0900-fdb6-4bcd-97b1-a00268b8b452",
   "metadata": {
    "id": "bea983a3"
   },
   "source": [
    "```python\n",
    "# Exercise 28\n",
    "```\n",
    "\n",
    "---\n",
    "\n",
    "### Exercise 29:\n",
    "Use the `count()` method to count how many times `\"apple\"` appears in the list `fruits = [\"apple\", \"banana\", \"apple\", \"orange\"]`."
   ]
  },
  {
   "cell_type": "code",
   "execution_count": 12,
   "id": "62616b33-e28e-484d-b91b-575e2621d749",
   "metadata": {},
   "outputs": [],
   "source": [
    "fruits = [\"apple\", \"banana\", \"apple\", \"orange\"]"
   ]
  },
  {
   "cell_type": "code",
   "execution_count": 16,
   "id": "a09befdc-1805-4f4f-926a-5c9a5fc6ff5b",
   "metadata": {},
   "outputs": [],
   "source": [
    "count_apple = fruits.count(\"apple\")"
   ]
  },
  {
   "cell_type": "code",
   "execution_count": 17,
   "id": "37af5a69-57ad-4601-b4d9-a3611bcae5fb",
   "metadata": {},
   "outputs": [
    {
     "name": "stdout",
     "output_type": "stream",
     "text": [
      "2\n"
     ]
    }
   ],
   "source": [
    "print(count_apple)"
   ]
  },
  {
   "cell_type": "markdown",
   "id": "6b81fbd1-6d3a-4a60-9f6a-0bd99da81129",
   "metadata": {
    "id": "bea983a3"
   },
   "source": [
    "```python\n",
    "# Exercise 29\n",
    "```\n",
    "\n",
    "---\n",
    "\n",
    "### Exercise 30:\n",
    "Create a dictionary `person` where keys are `\"name\"`, `\"age\"`, and `\"city\"`, and values are `\"Alice\"`, `25`, and `\"New York\"` respectively. Then access the value of the `\"city\"` key.\n",
    "\n",
    "```python"
   ]
  },
  {
   "cell_type": "code",
   "execution_count": 18,
   "id": "80c751d7-9030-49e4-8b63-f1e07ee554d6",
   "metadata": {},
   "outputs": [],
   "source": [
    "person = {\"name\": \"Alice\", \"age\": 25, \"city\": \"New York\" }"
   ]
  },
  {
   "cell_type": "code",
   "execution_count": 21,
   "id": "114672be-2e59-471f-887b-132867316b74",
   "metadata": {},
   "outputs": [
    {
     "name": "stdout",
     "output_type": "stream",
     "text": [
      "New York\n"
     ]
    }
   ],
   "source": [
    "print(person['city'])"
   ]
  },
  {
   "cell_type": "markdown",
   "id": "c5d23eee-7a58-4dfe-8493-58ccd28056de",
   "metadata": {
    "id": "bea983a3"
   },
   "source": [
    "### Exercise 31:\n",
    "Write a Python function that takes a list as input and returns a new list with all duplicates removed.\n",
    "\n",
    "```python\n",
    "# Exercise 31\n",
    "```"
   ]
  },
  {
   "cell_type": "code",
   "execution_count": 34,
   "id": "8a4a4484-3daf-4ad0-921f-fac89a410c3d",
   "metadata": {},
   "outputs": [],
   "source": [
    "numbers = ['1','2','3','4','1']"
   ]
  },
  {
   "cell_type": "code",
   "execution_count": 35,
   "id": "befdf3d5-f66d-42ff-becc-72d7f0ebea58",
   "metadata": {},
   "outputs": [],
   "source": [
    "new_list = numbers.remove('1')"
   ]
  },
  {
   "cell_type": "code",
   "execution_count": 38,
   "id": "ec2f3473-ce26-4cb5-baf2-dbd7660eaa86",
   "metadata": {},
   "outputs": [
    {
     "name": "stdout",
     "output_type": "stream",
     "text": [
      "['2', '3', '4', '1']\n"
     ]
    }
   ],
   "source": [
    "new_list = numbers \n",
    "print(new_list)"
   ]
  },
  {
   "cell_type": "markdown",
   "id": "c56299d5-579d-4cd1-b2d6-373ec7c0eaec",
   "metadata": {
    "id": "bea983a3",
    "jp-MarkdownHeadingCollapsed": true
   },
   "source": [
    "---\n",
    "\n",
    "### Exercise 32:\n",
    "Write a Python function that takes two lists and returns their intersection.\n",
    "\n",
    "```python\n",
    "# Exercise 32\n",
    "```"
   ]
  },
  {
   "cell_type": "code",
   "execution_count": 73,
   "id": "8ca0709b-d7b1-4874-b8c1-ef65d5e7e249",
   "metadata": {},
   "outputs": [
    {
     "name": "stdout",
     "output_type": "stream",
     "text": [
      "[3]\n"
     ]
    }
   ],
   "source": [
    "def intersection_list(list_1, list_2):\n",
    "    \"\"\"\n",
    "    it returns the intersection of list_1 and list_2 \n",
    "    \"\"\"\n",
    "    return list(set(list_1) & set(list_2))\n",
    "\n",
    "list_1 = [1, 2, 3,]\n",
    "list_2 = [3, 4, 5,6,7]\n",
    "    \n",
    "print(intersection_list(list_1, list_2))"
   ]
  },
  {
   "cell_type": "markdown",
   "id": "c5fb1941-e44e-4a2d-95a2-750153230f73",
   "metadata": {
    "id": "bea983a3",
    "jp-MarkdownHeadingCollapsed": true
   },
   "source": [
    "---\n",
    "\n",
    "### Exercise 33:\n",
    "Create a generator that yields the squares of numbers from 1 to 10.\n",
    "\n",
    "```python\n",
    "# Exercise 33\n",
    "```"
   ]
  },
  {
   "cell_type": "code",
   "execution_count": 68,
   "id": "806b00ec-cc94-4b48-ae66-9535651298ad",
   "metadata": {},
   "outputs": [
    {
     "name": "stdout",
     "output_type": "stream",
     "text": [
      "1\n",
      "4\n",
      "9\n",
      "16\n",
      "25\n",
      "36\n",
      "49\n",
      "64\n",
      "81\n"
     ]
    }
   ],
   "source": [
    "def square_generator():\n",
    "    \"\"\"\n",
    "    square generator is a function name\n",
    "    \"\"\"\n",
    "    for num in range(1, 10):\n",
    "        yield num ** 2\n",
    "\n",
    "for square in square_generator():\n",
    "        \n",
    "        print(square)"
   ]
  },
  {
   "cell_type": "markdown",
   "id": "6e779f95-8ba3-4d93-8967-1b390153562c",
   "metadata": {
    "id": "bea983a3",
    "jp-MarkdownHeadingCollapsed": true
   },
   "source": [
    "---\n",
    "\n",
    "### Exercise 34:\n",
    "Write a Python function that takes a dictionary as input and returns the sum of all its values.\n",
    "\n",
    "```python\n",
    "# Exercise 34\n",
    "```"
   ]
  },
  {
   "cell_type": "code",
   "execution_count": 74,
   "id": "00d11d22-e686-4ba8-969f-979684ed252a",
   "metadata": {},
   "outputs": [],
   "source": [
    "x = {'a': 200, 'b': 150, 'c': 100}"
   ]
  },
  {
   "cell_type": "code",
   "execution_count": 76,
   "id": "dbb82103-b846-45ef-8f2a-70a44455c41b",
   "metadata": {},
   "outputs": [],
   "source": [
    "result = sum(x.values())"
   ]
  },
  {
   "cell_type": "code",
   "execution_count": 77,
   "id": "00635129-ea55-4924-a213-2a93c6111611",
   "metadata": {},
   "outputs": [
    {
     "data": {
      "text/plain": [
       "450"
      ]
     },
     "execution_count": 77,
     "metadata": {},
     "output_type": "execute_result"
    }
   ],
   "source": [
    "result"
   ]
  },
  {
   "cell_type": "markdown",
   "id": "d65f277e-5181-4a0c-95e2-ab4a81325dd2",
   "metadata": {},
   "source": [
    "Or using another Method"
   ]
  },
  {
   "cell_type": "code",
   "execution_count": 80,
   "id": "95ca66b3-5291-4202-884a-04cd306667b8",
   "metadata": {},
   "outputs": [],
   "source": [
    "result = sum([x[key] for key in x])"
   ]
  },
  {
   "cell_type": "code",
   "execution_count": 81,
   "id": "35d483c4-bf33-492c-9baa-f4402ed1d927",
   "metadata": {},
   "outputs": [
    {
     "data": {
      "text/plain": [
       "450"
      ]
     },
     "execution_count": 81,
     "metadata": {},
     "output_type": "execute_result"
    }
   ],
   "source": [
    "result"
   ]
  },
  {
   "cell_type": "markdown",
   "id": "01135d41-f4f7-40e2-9321-e478b14e5066",
   "metadata": {
    "id": "bea983a3"
   },
   "source": [
    "---\n",
    "\n",
    "### Exercise 35:\n",
    "Use the `sorted()` function to sort the list `[3, 1, 4, 1, 5, 9]` in ascending order.\n",
    "\n",
    "```python"
   ]
  },
  {
   "cell_type": "code",
   "execution_count": 97,
   "id": "68a99b7e-9656-43c0-a7a1-dde497afaf45",
   "metadata": {},
   "outputs": [],
   "source": [
    "num_1 = [3, 1, 4, 1, 5, 9]"
   ]
  },
  {
   "cell_type": "code",
   "execution_count": 98,
   "id": "d9b29226-971e-45c9-a0c8-3db0cc8addcf",
   "metadata": {},
   "outputs": [],
   "source": [
    "num_2 = sorted(num_1)"
   ]
  },
  {
   "cell_type": "code",
   "execution_count": 99,
   "id": "9f415531-89fe-4b40-8e6d-e21de5e43b54",
   "metadata": {},
   "outputs": [
    {
     "name": "stdout",
     "output_type": "stream",
     "text": [
      "sorted list: [1, 1, 3, 4, 5, 9]\n"
     ]
    }
   ],
   "source": [
    "print(\"sorted list:\", num_2)"
   ]
  },
  {
   "cell_type": "code",
   "execution_count": 101,
   "id": "d0627982-e786-43fc-bd5d-9c806ab414f9",
   "metadata": {},
   "outputs": [],
   "source": [
    "num_2 = sorted(num_1, reverse = True)"
   ]
  },
  {
   "cell_type": "code",
   "execution_count": 102,
   "id": "55c4d50c-0e0e-4e41-8050-7acfeceda4ac",
   "metadata": {},
   "outputs": [
    {
     "name": "stdout",
     "output_type": "stream",
     "text": [
      "sorted list: [9, 5, 4, 3, 1, 1]\n"
     ]
    }
   ],
   "source": [
    "print(\"sorted list:\", num_2)"
   ]
  },
  {
   "cell_type": "markdown",
   "id": "1a11c1df-5c69-4a97-8d6c-926c2f14741b",
   "metadata": {
    "id": "bea983a3"
   },
   "source": []
  },
  {
   "cell_type": "markdown",
   "id": "d8a9e685-a5f2-4fd0-87ce-5c389b5f6f55",
   "metadata": {
    "id": "bea983a3",
    "jp-MarkdownHeadingCollapsed": true
   },
   "source": [
    "---\n",
    "\n",
    "### Exercise 36:\n",
    "Write a Python function that takes a list of strings as input and returns the longest string."
   ]
  },
  {
   "cell_type": "code",
   "execution_count": 103,
   "id": "8e5dbf4d-5225-4ae9-9e30-7e1f3e9c5020",
   "metadata": {},
   "outputs": [],
   "source": [
    "names = ['Roy', 'James', 'Gedeon', 'Eric']"
   ]
  },
  {
   "cell_type": "code",
   "execution_count": 104,
   "id": "b1cbb33c-cbc1-44fe-9099-92c8e32ac0c1",
   "metadata": {},
   "outputs": [],
   "source": [
    "a = max(names, key=len)"
   ]
  },
  {
   "cell_type": "code",
   "execution_count": 105,
   "id": "18558d44-faef-4a67-8e84-2c52107a2d35",
   "metadata": {},
   "outputs": [
    {
     "name": "stdout",
     "output_type": "stream",
     "text": [
      "Gedeon\n"
     ]
    }
   ],
   "source": [
    "print(a)"
   ]
  },
  {
   "cell_type": "markdown",
   "id": "9e5e033e-a979-46e8-a638-387d28b8cdf8",
   "metadata": {
    "id": "bea983a3",
    "jp-MarkdownHeadingCollapsed": true
   },
   "source": [
    "### Exercise 38:\n",
    "Create a list of tuples where each tuple contains a number and its square for numbers from 1 to 5.\n"
   ]
  },
  {
   "cell_type": "code",
   "execution_count": 112,
   "id": "812e96c0-a98d-47fe-832d-ff03f749d1fd",
   "metadata": {
    "id": "bea983a3"
   },
   "outputs": [],
   "source": [
    "num = [1, 2, 3, 4]"
   ]
  },
  {
   "cell_type": "code",
   "execution_count": 113,
   "id": "067a65a8-b63d-4101-b705-77d4e813f1fd",
   "metadata": {},
   "outputs": [],
   "source": [
    "num1= [(x, x**2) for x in num]"
   ]
  },
  {
   "cell_type": "code",
   "execution_count": 115,
   "id": "5b44bdbd-c8e7-417b-b997-0266bf893857",
   "metadata": {},
   "outputs": [],
   "source": [
    "num2= tuple(num1)"
   ]
  },
  {
   "cell_type": "code",
   "execution_count": 116,
   "id": "60fe4d39-4663-4002-b771-4e4e33e92462",
   "metadata": {},
   "outputs": [
    {
     "data": {
      "text/plain": [
       "((1, 1), (2, 4), (3, 9), (4, 16))"
      ]
     },
     "execution_count": 116,
     "metadata": {},
     "output_type": "execute_result"
    }
   ],
   "source": [
    "num2"
   ]
  },
  {
   "cell_type": "code",
   "execution_count": 117,
   "id": "7c285cdf-e33a-4f7f-8c0e-35fb5ce5d70d",
   "metadata": {},
   "outputs": [
    {
     "data": {
      "text/plain": [
       "tuple"
      ]
     },
     "execution_count": 117,
     "metadata": {},
     "output_type": "execute_result"
    }
   ],
   "source": [
    "type(num2)"
   ]
  },
  {
   "cell_type": "markdown",
   "id": "dea33eae-eef3-4106-b5d9-84e3e34a18fd",
   "metadata": {
    "id": "bea983a3"
   },
   "source": [
    "---\n",
    "\n",
    "### Exercise 39:\n",
    "Write a Python function that takes a list of tuples and returns a list of the second elements from each tuple."
   ]
  },
  {
   "cell_type": "code",
   "execution_count": 122,
   "id": "f3eca5ac-bad3-4ef4-ad49-6a5088bdc3ad",
   "metadata": {},
   "outputs": [],
   "source": [
    "m = [(1,2),(3,4),(4,5)]"
   ]
  },
  {
   "cell_type": "code",
   "execution_count": 123,
   "id": "e2d6e7fb-28e0-48ea-a457-c599cdbb8a58",
   "metadata": {},
   "outputs": [],
   "source": [
    "m1 = sorted(m, key=lambda a:a[0])"
   ]
  },
  {
   "cell_type": "code",
   "execution_count": 124,
   "id": "29849966-352a-4816-8311-60e9e27e83b0",
   "metadata": {},
   "outputs": [
    {
     "data": {
      "text/plain": [
       "[(1, 2), (3, 4), (4, 5)]"
      ]
     },
     "execution_count": 124,
     "metadata": {},
     "output_type": "execute_result"
    }
   ],
   "source": [
    "m1"
   ]
  },
  {
   "cell_type": "markdown",
   "id": "660a9488-e1fd-45e5-a338-bc89fe53c734",
   "metadata": {},
   "source": [
    "or Using sort()"
   ]
  },
  {
   "cell_type": "code",
   "execution_count": 127,
   "id": "c7c6ce22-3767-4d9f-aef1-5d482106faeb",
   "metadata": {},
   "outputs": [],
   "source": [
    "a =[(2,3), (2, 5), (4, 6)]"
   ]
  },
  {
   "cell_type": "code",
   "execution_count": 130,
   "id": "7a43cfae-a219-4b7d-ac24-6173fc52ad83",
   "metadata": {},
   "outputs": [],
   "source": [
    "a.sort(key = lambda a:a[0])"
   ]
  },
  {
   "cell_type": "code",
   "execution_count": 131,
   "id": "06fb06d2-c556-400a-a213-430863fcefbb",
   "metadata": {},
   "outputs": [
    {
     "data": {
      "text/plain": [
       "[(2, 3), (2, 5), (4, 6)]"
      ]
     },
     "execution_count": 131,
     "metadata": {},
     "output_type": "execute_result"
    }
   ],
   "source": [
    "a"
   ]
  },
  {
   "cell_type": "markdown",
   "id": "ef4b9076-16a3-4b2e-ab1f-48c7147d3f58",
   "metadata": {
    "id": "bea983a3"
   },
   "source": [
    "---\n",
    "\n",
    "### Exercise 40:\n",
    "Write a Python function that flattens a list of lists into a single list."
   ]
  },
  {
   "cell_type": "code",
   "execution_count": 132,
   "id": "4e8f1101-f20e-45db-9601-af826af9352c",
   "metadata": {},
   "outputs": [],
   "source": [
    "x = [[1,4,2], [4,6], [6,4,7]]"
   ]
  },
  {
   "cell_type": "code",
   "execution_count": 134,
   "id": "e36efaa8-0508-4477-a7e6-dbb785abef9a",
   "metadata": {},
   "outputs": [],
   "source": [
    "#using the sum() function\n",
    "y = sum(x, [])"
   ]
  },
  {
   "cell_type": "code",
   "execution_count": 135,
   "id": "3e121f00-d7dc-4ddd-8e67-f693da1f10e5",
   "metadata": {},
   "outputs": [
    {
     "data": {
      "text/plain": [
       "[1, 4, 2, 4, 6, 6, 4, 7]"
      ]
     },
     "execution_count": 135,
     "metadata": {},
     "output_type": "execute_result"
    }
   ],
   "source": [
    "y"
   ]
  },
  {
   "cell_type": "markdown",
   "id": "3235549c-d431-48a9-a007-44fd2ab5fb6a",
   "metadata": {
    "id": "bea983a3"
   },
   "source": [
    "---\n",
    "\n",
    "### Exercise 41:\n",
    "Use the `enumerate()` function to iterate through the list `[\"apple\", \"banana\", \"cherry\"]` and print the index and value."
   ]
  },
  {
   "cell_type": "code",
   "execution_count": 136,
   "id": "3dedb76c-e282-49f5-a3b0-7cfc0ee7fa8a",
   "metadata": {},
   "outputs": [],
   "source": [
    "#using enumerator function\n",
    "c = [\"apple\", \"banana\", \"cherry\"]"
   ]
  },
  {
   "cell_type": "code",
   "execution_count": 141,
   "id": "4f3395ae-ffde-482f-b7d8-779619e7ce66",
   "metadata": {},
   "outputs": [
    {
     "name": "stdout",
     "output_type": "stream",
     "text": [
      "1 apple\n",
      "2 banana\n",
      "3 cherry\n"
     ]
    }
   ],
   "source": [
    "for index, b in enumerate (c, start = 1):\n",
    "    print(index, b)"
   ]
  },
  {
   "cell_type": "markdown",
   "id": "32dcdbc6-5460-4b24-86cf-a8b22449894b",
   "metadata": {
    "id": "bea983a3"
   },
   "source": [
    "---\n",
    "\n",
    "### Exercise 42:\n",
    "Write a Python program that checks if a tuple is empty."
   ]
  },
  {
   "cell_type": "code",
   "execution_count": 142,
   "id": "8e4af150-3e57-4a7a-9676-bf7fa670e601",
   "metadata": {},
   "outputs": [
    {
     "name": "stdout",
     "output_type": "stream",
     "text": [
      "This tuple is empty\n"
     ]
    }
   ],
   "source": [
    "b = ()\n",
    "if len(b) ==0:\n",
    "    print(\"This tuple is empty\")\n",
    "else:\n",
    "    print(\"This tuple is not empty\")"
   ]
  },
  {
   "cell_type": "markdown",
   "id": "cee45aba-8a17-48a1-b069-b7e508cd219f",
   "metadata": {
    "id": "bea983a3"
   },
   "source": [
    "---\n",
    "\n",
    "### Exercise 43:\n",
    "Create a list of even numbers between 1 and 20 using the `range()` function."
   ]
  },
  {
   "cell_type": "code",
   "execution_count": 143,
   "id": "7abddb81-a88b-48fe-81e2-5131799e441c",
   "metadata": {},
   "outputs": [],
   "source": [
    "a = 1\n",
    "b = 21"
   ]
  },
  {
   "cell_type": "code",
   "execution_count": 145,
   "id": "74be0ceb-8d29-49bb-82e5-477ec34d8ad5",
   "metadata": {},
   "outputs": [],
   "source": [
    "result = [i for i in range(1, b + 1) if i % 2 ==0]"
   ]
  },
  {
   "cell_type": "code",
   "execution_count": 146,
   "id": "4bca3e61-29c3-4c38-bcb6-dccb880eced3",
   "metadata": {},
   "outputs": [
    {
     "data": {
      "text/plain": [
       "[2, 4, 6, 8, 10, 12, 14, 16, 18, 20]"
      ]
     },
     "execution_count": 146,
     "metadata": {},
     "output_type": "execute_result"
    }
   ],
   "source": [
    "result"
   ]
  },
  {
   "cell_type": "markdown",
   "id": "36bc4c76-fdd6-4e0d-94c3-78348a69aae0",
   "metadata": {},
   "source": [
    "or using this method"
   ]
  },
  {
   "cell_type": "code",
   "execution_count": 147,
   "id": "f768be0f-7063-43c3-8d86-fe013a73776b",
   "metadata": {},
   "outputs": [],
   "source": [
    "x = 1\n",
    "y = 21"
   ]
  },
  {
   "cell_type": "code",
   "execution_count": 151,
   "id": "0c5f3de0-713e-4520-8a68-9235ff6ca00c",
   "metadata": {},
   "outputs": [
    {
     "name": "stdout",
     "output_type": "stream",
     "text": [
      "2\n",
      "4\n",
      "6\n",
      "8\n",
      "10\n",
      "12\n",
      "14\n",
      "16\n",
      "18\n",
      "20\n"
     ]
    }
   ],
   "source": [
    "for i in range(2, y + 1, 2):\n",
    "    print(i)"
   ]
  },
  {
   "cell_type": "code",
   "execution_count": null,
   "id": "a9fc21d0-1996-46ad-a010-9595b3e44704",
   "metadata": {},
   "outputs": [],
   "source": []
  },
  {
   "cell_type": "markdown",
   "id": "b0fefac3-4b2d-4ed4-8983-b0a7dfa77185",
   "metadata": {
    "id": "bea983a3"
   },
   "source": [
    "---\n",
    "\n",
    "### Exercise 44:\n",
    "Write a Python function that takes a list of numbers as input and returns the list in reverse order."
   ]
  },
  {
   "cell_type": "code",
   "execution_count": 155,
   "id": "21be5112-39e9-4a4f-82ba-fd8bd5f3368c",
   "metadata": {
    "id": "bea983a3",
    "jp-MarkdownHeadingCollapsed": true
   },
   "outputs": [],
   "source": [
    "a = [1,2,3,4,5]"
   ]
  },
  {
   "cell_type": "code",
   "execution_count": 156,
   "id": "83300ba5-1db0-43f0-b82e-4c84e6d90b3d",
   "metadata": {},
   "outputs": [],
   "source": [
    "a.reverse()"
   ]
  },
  {
   "cell_type": "code",
   "execution_count": 160,
   "id": "e0469519-fc25-4e3d-b60d-5c578519e9bc",
   "metadata": {},
   "outputs": [
    {
     "name": "stdout",
     "output_type": "stream",
     "text": [
      "[5, 4, 3, 2, 1]\n"
     ]
    }
   ],
   "source": [
    "print(a)"
   ]
  },
  {
   "cell_type": "markdown",
   "id": "6e2dac4e-c8de-4a01-a411-59151715d306",
   "metadata": {
    "id": "bea983a3"
   },
   "source": [
    "### Exercise 45:\n",
    "Create a dictionary comprehension that maps numbers from 1 to 5 to their cubes."
   ]
  },
  {
   "cell_type": "code",
   "execution_count": 161,
   "id": "8954918e-36bf-4991-bb0d-6fd7c5b67907",
   "metadata": {},
   "outputs": [],
   "source": [
    "dict1= {a:a**3 for a in [1,2,3,4,5] }"
   ]
  },
  {
   "cell_type": "code",
   "execution_count": 162,
   "id": "51420ffc-3ff9-4e77-86ff-e8b15f3c9753",
   "metadata": {},
   "outputs": [
    {
     "data": {
      "text/plain": [
       "{1: 1, 2: 8, 3: 27, 4: 64, 5: 125}"
      ]
     },
     "execution_count": 162,
     "metadata": {},
     "output_type": "execute_result"
    }
   ],
   "source": [
    "dict1"
   ]
  },
  {
   "cell_type": "markdown",
   "id": "cb0e3191-86c2-41e3-8b15-c2caed09a1c9",
   "metadata": {
    "id": "bea983a3"
   },
   "source": [
    "### Exercise 46:\n",
    "Write a Python program that creates a new list containing only the unique elements of the list `[1, 2, 2, 3, 4, 4, 5]`."
   ]
  },
  {
   "cell_type": "code",
   "execution_count": 163,
   "id": "dc5b210e-408e-471f-90b1-813d313a7df5",
   "metadata": {},
   "outputs": [],
   "source": [
    "my_list = [1, 2, 2, 3, 4, 4, 5]"
   ]
  },
  {
   "cell_type": "code",
   "execution_count": 164,
   "id": "a9f6e057-f059-4e49-842c-6ff851f9717f",
   "metadata": {},
   "outputs": [],
   "source": [
    "result = list(set(my_list))"
   ]
  },
  {
   "cell_type": "code",
   "execution_count": 165,
   "id": "0c9d87b5-6c48-4f12-a3de-96751365fff0",
   "metadata": {},
   "outputs": [
    {
     "data": {
      "text/plain": [
       "[1, 2, 3, 4, 5]"
      ]
     },
     "execution_count": 165,
     "metadata": {},
     "output_type": "execute_result"
    }
   ],
   "source": [
    "result"
   ]
  },
  {
   "cell_type": "markdown",
   "id": "d4689d47-cb14-405c-84e7-597c9f28eeda",
   "metadata": {
    "id": "bea983a3"
   },
   "source": [
    "---\n",
    "\n",
    "### Exercise 47:\n",
    "Write a Python function that takes a list of dictionaries and returns a list of the values for a given key."
   ]
  },
  {
   "cell_type": "code",
   "execution_count": 23,
   "id": "3fb701b3-6932-4f5c-8d5c-4a36a6ef8e26",
   "metadata": {},
   "outputs": [],
   "source": [
    "a = {\"x\": 1, \"y\": 2, \"z\": 3}"
   ]
  },
  {
   "cell_type": "code",
   "execution_count": 32,
   "id": "ab62cdcd-422b-4ce7-b156-b7438b3991cc",
   "metadata": {},
   "outputs": [
    {
     "name": "stdout",
     "output_type": "stream",
     "text": [
      "1\n",
      "2\n",
      "3\n"
     ]
    }
   ],
   "source": [
    "for x in a.values():\n",
    "    print(x)"
   ]
  },
  {
   "cell_type": "code",
   "execution_count": null,
   "id": "ba76b1e1-9d80-48bf-a92a-c0bc55271c72",
   "metadata": {},
   "outputs": [],
   "source": []
  },
  {
   "cell_type": "markdown",
   "id": "757f3fe6-cf42-43e2-adb0-bd5646ccbf22",
   "metadata": {
    "id": "bea983a3"
   },
   "source": [
    "---\n",
    "\n",
    "### Exercise 48:\n",
    "Write a Python function that uses a generator to yield the Fibonacci sequence up to `n` terms.\n",
    "\n",
    "```python\n",
    "\n",
    "```"
   ]
  },
  {
   "cell_type": "code",
   "execution_count": null,
   "id": "fc4bac36-77f8-4566-921a-8e34b2687d1e",
   "metadata": {},
   "outputs": [],
   "source": []
  },
  {
   "cell_type": "markdown",
   "id": "64bc4644-7e25-4c1f-80de-1183d8ead3ab",
   "metadata": {
    "id": "bea983a3"
   },
   "source": [
    "---\n",
    "\n",
    "### Exercise 49:\n",
    "Write a Python function that takes a string and returns a list of all unique characters in the string."
   ]
  },
  {
   "cell_type": "code",
   "execution_count": 108,
   "id": "52eb198d-22d2-4b4b-8edf-2350cf650dd7",
   "metadata": {},
   "outputs": [
    {
     "name": "stdout",
     "output_type": "stream",
     "text": [
      "[' ', 'H', 'e', 'i', 'n', 'o', 'r', 'v', 'y']\n"
     ]
    }
   ],
   "source": [
    "def my_unique_characters(input_string):\n",
    "    unique_chars = set(input_string)\n",
    "    return sorted(list(unique_chars))\n",
    "\n",
    "my_res = my_unique_characters(\"Hi everyone\")\n",
    "print(my_res)\n",
    "    \n",
    "    "
   ]
  },
  {
   "cell_type": "markdown",
   "id": "ecbdea83-02b2-456b-811e-d8caa5809b90",
   "metadata": {
    "id": "bea983a3"
   },
   "source": [
    "---\n",
    "\n",
    "### Exercise 50:\n",
    "Write a Python function that merges two sorted lists into a single sorted list.\n",
    "\n",
    "\n",
    "```"
   ]
  },
  {
   "cell_type": "code",
   "execution_count": 36,
   "id": "1da9e6d4-27f0-4610-871b-9ec5cbc66a35",
   "metadata": {},
   "outputs": [
    {
     "data": {
      "text/plain": [
       "[1, 2, 2, 3, 3, 4, 5, 5, 6]"
      ]
     },
     "execution_count": 36,
     "metadata": {},
     "output_type": "execute_result"
    }
   ],
   "source": [
    "def merge_sorted_list (list_1, list_2):\n",
    "    return sorted(list_1 + list_2)\n",
    "list_1 = [1,2,3,4,5]\n",
    "list_2 = [5, 3, 6, 2]\n",
    "result = merge_sorted_list(list_1, list_2)\n",
    "result"
   ]
  },
  {
   "cell_type": "markdown",
   "id": "fefcc329-593c-4bd0-ac26-281c77234e16",
   "metadata": {
    "id": "bea983a3"
   },
   "source": [
    "---\n",
    "\n",
    "### Exercise 51:\n",
    "Use the\n",
    "\n",
    " `filter()` function to filter out odd numbers from the list `[1, 2, 3, 4, 5, 6]`.\n",
    "\n",
    "```python\n",
    "```"
   ]
  },
  {
   "cell_type": "code",
   "execution_count": 37,
   "id": "5c18366d-3d83-4f13-b3c5-2dfd9720a1c9",
   "metadata": {},
   "outputs": [],
   "source": [
    "numbers = [1, 2, 3, 4, 5, 6]"
   ]
  },
  {
   "cell_type": "code",
   "execution_count": 39,
   "id": "360c4664-2dc6-45d0-a3b1-99dcdd9f91c8",
   "metadata": {},
   "outputs": [
    {
     "name": "stdout",
     "output_type": "stream",
     "text": [
      "[2, 4, 6]\n"
     ]
    }
   ],
   "source": [
    "e_numbers = list(filter(lambda i: i % 2 == 0, numbers))\n",
    "print(e_numbers)"
   ]
  },
  {
   "cell_type": "markdown",
   "id": "eef545cf-9120-4bad-8d5b-0047dc4c4ecc",
   "metadata": {
    "id": "bea983a3"
   },
   "source": [
    "---\n",
    "\n",
    "### Exercise 52:\n",
    "Write a Python program that converts a list of tuples `[(1, 2), (3, 4), (5, 6)]` into a dictionary.\n",
    "\n",
    "```python\n",
    "```"
   ]
  },
  {
   "cell_type": "code",
   "execution_count": 46,
   "id": "daa4549c-2e95-418d-adac-23b7f2eae266",
   "metadata": {},
   "outputs": [],
   "source": [
    "my_list = [(1,2),(3,4), (5,6)]"
   ]
  },
  {
   "cell_type": "code",
   "execution_count": 47,
   "id": "608cf2c5-0729-4dd9-a64e-30af4f9db9da",
   "metadata": {},
   "outputs": [],
   "source": [
    "numbers = dict(my_list)"
   ]
  },
  {
   "cell_type": "code",
   "execution_count": 48,
   "id": "155b5bf6-1d5e-4e7a-9c82-fc01f7fa0bb2",
   "metadata": {},
   "outputs": [
    {
     "data": {
      "text/plain": [
       "{1: 2, 3: 4, 5: 6}"
      ]
     },
     "execution_count": 48,
     "metadata": {},
     "output_type": "execute_result"
    }
   ],
   "source": [
    "numbers"
   ]
  },
  {
   "cell_type": "code",
   "execution_count": 49,
   "id": "ec339d46-581d-48fb-880d-3941e7e6ec31",
   "metadata": {},
   "outputs": [
    {
     "data": {
      "text/plain": [
       "dict"
      ]
     },
     "execution_count": 49,
     "metadata": {},
     "output_type": "execute_result"
    }
   ],
   "source": [
    "type(numbers)"
   ]
  },
  {
   "cell_type": "markdown",
   "id": "c9c50714-3ba5-4601-a1c8-a836b844bd31",
   "metadata": {
    "id": "bea983a3"
   },
   "source": [
    "---\n",
    "\n",
    "### Exercise 53:\n",
    "Write a Python function that takes two sets and returns their symmetric difference.\n",
    "\n",
    "```python\n",
    "```"
   ]
  },
  {
   "cell_type": "code",
   "execution_count": 65,
   "id": "cdd400e9-73b4-4046-8f00-9970820e0847",
   "metadata": {},
   "outputs": [
    {
     "name": "stdout",
     "output_type": "stream",
     "text": [
      "{1, 2, 5, 6}\n"
     ]
    }
   ],
   "source": [
    "def symmetric_difference(set1, set2):\n",
    "    return set1.symmetric_difference(set2)\n",
    "\n",
    "set_1 = {1, 2, 3, 4}\n",
    "set_2 = {3, 4, 5, 6}\n",
    "result = symmetric_difference(set_1, set_2)\n",
    "print(result)"
   ]
  },
  {
   "cell_type": "code",
   "execution_count": null,
   "id": "440611e5-762f-483c-b886-76c6b5c5d271",
   "metadata": {},
   "outputs": [],
   "source": []
  },
  {
   "cell_type": "markdown",
   "id": "c5bf6154-e4bc-48c1-8dde-732b5b5a53c1",
   "metadata": {
    "id": "bea983a3"
   },
   "source": [
    "---\n",
    "\n",
    "### Exercise 54:\n",
    "Write a Python program that finds the common elements in three lists `list1`, `list2`, and `list3`.\n",
    "\n",
    "```python\n",
    "```"
   ]
  },
  {
   "cell_type": "code",
   "execution_count": 74,
   "id": "435177d5-9614-498b-98be-8be6cfebd856",
   "metadata": {},
   "outputs": [
    {
     "name": "stdout",
     "output_type": "stream",
     "text": [
      "[2]\n"
     ]
    }
   ],
   "source": [
    "def common_elements(list_1, list_2, list_3):\n",
    "    return list(set(list_1) & set(list_2) & set(list_3))\n",
    "\n",
    "\n",
    "list_1 = [1, 2, 3, 4, 5]\n",
    "list_2 = [2, 4, 5, 6, 7]\n",
    "list_3 = [2, 6, 7, 8, 9]\n",
    "\n",
    "result = common_elements(list_1, list_2, list_3)\n",
    "print(result)"
   ]
  },
  {
   "cell_type": "markdown",
   "id": "80cec123-2338-4b6e-b01e-e864874c17fd",
   "metadata": {
    "id": "bea983a3"
   },
   "source": [
    "---\n",
    "\n",
    "### Exercise 55:\n",
    "Write a Python function that returns the factorial of a number using recursion.\n",
    "\n",
    "```python\n",
    "# Exercise 55\n",
    "```"
   ]
  },
  {
   "cell_type": "code",
   "execution_count": 75,
   "id": "26ef2627-9d4c-432a-a5fd-88863dad719e",
   "metadata": {},
   "outputs": [
    {
     "name": "stdout",
     "output_type": "stream",
     "text": [
      "6\n"
     ]
    }
   ],
   "source": [
    "def factorial(n):\n",
    "    if n == 0:\n",
    "        return 1\n",
    "    return n * factorial(n - 1)\n",
    "\n",
    "print(factorial(3))  "
   ]
  },
  {
   "cell_type": "markdown",
   "id": "14ab69b3-30ab-4b8c-b3c7-333a6bb7f50b",
   "metadata": {
    "id": "bea983a3"
   },
   "source": [
    "---\n",
    "\n",
    "### Exercise 56:\n",
    "Write a Python program that removes all empty strings from the list `[\"apple\", \"\", \"banana\", \"\", \"cherry\"]`.\n",
    "\n",
    "```python\n",
    "```"
   ]
  },
  {
   "cell_type": "code",
   "execution_count": 78,
   "id": "757eddb8-f451-451d-8f3c-8f682ac49451",
   "metadata": {},
   "outputs": [],
   "source": [
    "fruits = [\"apple\", \"\", \"banana\", \"\", \"cherry\"]"
   ]
  },
  {
   "cell_type": "code",
   "execution_count": 79,
   "id": "0a08df83-7c9f-441c-a354-06dc3ee82991",
   "metadata": {},
   "outputs": [],
   "source": [
    "fruits = list(filter(None, fruits))"
   ]
  },
  {
   "cell_type": "code",
   "execution_count": 80,
   "id": "c5328fe3-44a1-4078-bdb0-a40191f0551c",
   "metadata": {},
   "outputs": [
    {
     "name": "stdout",
     "output_type": "stream",
     "text": [
      "['apple', 'banana', 'cherry']\n"
     ]
    }
   ],
   "source": [
    "print(fruits)"
   ]
  },
  {
   "cell_type": "markdown",
   "id": "2362b7ea-013d-4130-aeba-d1046c27edf0",
   "metadata": {
    "id": "bea983a3"
   },
   "source": [
    "---\n",
    "\n",
    "### Exercise 57:\n",
    "Write a Python function that takes a dictionary and returns a new dictionary with the keys and values swapped.\n",
    "\n",
    "```python\n",
    "```"
   ]
  },
  {
   "cell_type": "code",
   "execution_count": 83,
   "id": "ae9f6c9e-4fad-44a6-a949-240674b43164",
   "metadata": {},
   "outputs": [
    {
     "name": "stdout",
     "output_type": "stream",
     "text": [
      "{1: 'a', 2: 'b', 3: 'c'}\n"
     ]
    }
   ],
   "source": [
    "def swap_keys_values(my_dict):\n",
    "    swapped_dict = {}\n",
    "    for key, value in my_dict.items():\n",
    "        swapped_dict[value] = key\n",
    "    return swapped_dict\n",
    "\n",
    "# Example usage\n",
    "dict_1 = {'a': 1, 'b': 2, 'c': 3}\n",
    "swapped_dict = swap_keys_values(dict_1)\n",
    "print(swapped_dict)"
   ]
  },
  {
   "cell_type": "markdown",
   "id": "48a77b4b-3fa5-4cdb-b23b-df6622bfbe3e",
   "metadata": {
    "id": "bea983a3"
   },
   "source": [
    "---\n",
    "\n",
    "### Exercise 58:\n",
    "Write a Python function that takes a list of integers and returns a new list with only the even numbers.\n",
    "\n",
    "```python\n",
    "```"
   ]
  },
  {
   "cell_type": "code",
   "execution_count": 84,
   "id": "e3759782-c1ed-4811-a7f6-2460fd835450",
   "metadata": {},
   "outputs": [
    {
     "name": "stdout",
     "output_type": "stream",
     "text": [
      "[2, 4, 6]\n"
     ]
    }
   ],
   "source": [
    "def int_numbers(numbers):\n",
    "    return [num for num in numbers if num % 2 == 0]\n",
    "\n",
    "my_list = [1, 2, 3, 4, 5, 6]\n",
    "result = int_numbers(my_list)\n",
    "print(result)"
   ]
  },
  {
   "cell_type": "markdown",
   "id": "466947f8-6e2f-4ea6-a239-e69f55c07cd4",
   "metadata": {
    "id": "bea983a3"
   },
   "source": [
    "---\n",
    "\n",
    "### Exercise 59:\n",
    "Write a Python function that takes a list of tuples and returns a list of the first elements of each tuple.\n",
    "\n",
    "```python\n",
    "```"
   ]
  },
  {
   "cell_type": "code",
   "execution_count": 86,
   "id": "2ee282b6-f1b4-4613-8341-5306a5d6fe4d",
   "metadata": {},
   "outputs": [
    {
     "name": "stdout",
     "output_type": "stream",
     "text": [
      "[1, 2, 3]\n"
     ]
    }
   ],
   "source": [
    "def first_elements(my_tuples_list):\n",
    "    return [x[0] for x in my_tuples_list]\n",
    "\n",
    "list1 = [(1, 'a'), (2, 'b'), (3, 'c')]\n",
    "result = first_elements(list1)\n",
    "print(result)"
   ]
  },
  {
   "cell_type": "markdown",
   "id": "7d14a59a-9dc7-44a5-affb-af2e66d28c5e",
   "metadata": {
    "id": "bea983a3"
   },
   "source": [
    "---\n",
    "\n",
    "### Exercise 60:\n",
    "Write a Python program that removes duplicates from a list without changing the order of elements.\n",
    "\n",
    "```python\n",
    "```"
   ]
  },
  {
   "cell_type": "code",
   "execution_count": 90,
   "id": "6ac2e476-0ce5-4278-a94f-e5fdf9365a67",
   "metadata": {},
   "outputs": [
    {
     "name": "stdout",
     "output_type": "stream",
     "text": [
      "[1, 2, 3, 4, 5]\n"
     ]
    }
   ],
   "source": [
    "def re_duplicates(input_list):\n",
    "    set_1 = set()\n",
    "    result = []\n",
    "    for x in input_list:\n",
    "        if x not in set_1:\n",
    "            set_1.add(x)\n",
    "            result.append(x)\n",
    "    return result\n",
    "\n",
    "list_1 = [1, 2, 3, 2, 1, 4, 5, 4]\n",
    "result = re_duplicates(list_1)\n",
    "print(result)"
   ]
  },
  {
   "cell_type": "markdown",
   "id": "ed7cf6dd-cbce-4087-b6a7-5b90c25238f7",
   "metadata": {
    "id": "bea983a3"
   },
   "source": [
    "---\n",
    "\n",
    "### Exercise 61:\n",
    "Use the `map()` function to convert a list of strings to a list of their lengths.\n",
    "\n",
    "```python\n",
    "# Exercise 61\n",
    "```"
   ]
  },
  {
   "cell_type": "code",
   "execution_count": 92,
   "id": "b13b27c1-4f4d-429a-a5d9-774f819e68fa",
   "metadata": {},
   "outputs": [],
   "source": [
    "my_strings = [\"apple\", \"banana\", \"cherry\"]"
   ]
  },
  {
   "cell_type": "code",
   "execution_count": 95,
   "id": "784644b9-573a-4dba-8788-b3c9b4c1f93c",
   "metadata": {},
   "outputs": [],
   "source": [
    "lengths = list(map(len, my_strings))"
   ]
  },
  {
   "cell_type": "code",
   "execution_count": 96,
   "id": "8c2e71c5-8de5-4790-8668-833a859c5764",
   "metadata": {},
   "outputs": [
    {
     "name": "stdout",
     "output_type": "stream",
     "text": [
      "[5, 6, 6]\n"
     ]
    }
   ],
   "source": [
    "print(lengths)"
   ]
  },
  {
   "cell_type": "markdown",
   "id": "a62d2691-9050-4063-b010-49a939dbf4ef",
   "metadata": {
    "id": "bea983a3"
   },
   "source": [
    "---\n",
    "\n",
    "### Exercise 62:\n",
    "Write a Python program that calculates the average of a list of numbers.\n",
    "\n",
    "```python\n",
    "```"
   ]
  },
  {
   "cell_type": "code",
   "execution_count": 97,
   "id": "a6d2a297-aa7c-4e3b-b5bc-213a6f2f54b2",
   "metadata": {},
   "outputs": [
    {
     "name": "stdout",
     "output_type": "stream",
     "text": [
      "30.0\n"
     ]
    }
   ],
   "source": [
    "def calculate_average(numbers):\n",
    "    return sum(numbers) / len(numbers) if numbers else 0\n",
    "\n",
    "my_list = [10, 20, 30, 40, 50]\n",
    "average = calculate_average(my_list)\n",
    "print(average)"
   ]
  },
  {
   "cell_type": "markdown",
   "id": "3b299fa8-f2b0-4988-be83-d561da63e50a",
   "metadata": {
    "id": "bea983a3"
   },
   "source": [
    "---\n",
    "\n",
    "### Exercise 63:\n",
    "Write a Python function that generates a list of the first `n` Fibonacci numbers.\n",
    "\n",
    "```python\n",
    "# Exercise 63\n",
    "```"
   ]
  },
  {
   "cell_type": "code",
   "execution_count": 100,
   "id": "d9a90181-1edd-4159-afaa-88466782a29b",
   "metadata": {},
   "outputs": [
    {
     "name": "stdout",
     "output_type": "stream",
     "text": [
      "[0, 1, 1, 2]\n"
     ]
    }
   ],
   "source": [
    "def generate_fibonacci(n):\n",
    "    fibonacci_list = []\n",
    "    a, b = 0, 1\n",
    "    for _ in range(n):\n",
    "        fibonacci_list.append(a)\n",
    "        a, b = b, a + b\n",
    "    return fibonacci_list\n",
    "\n",
    "n = 4\n",
    "result = generate_fibonacci(n)\n",
    "print(result)"
   ]
  },
  {
   "cell_type": "markdown",
   "id": "3ef3b227-4a6f-474b-97e7-4fb8a5ba7e0e",
   "metadata": {
    "id": "bea983a3"
   },
   "source": [
    "---\n",
    "\n",
    "### Exercise 64:\n",
    "Write a Python program that counts how many times each element appears in the list `[\"apple\", \"banana\", \"apple\", \"cherry\"]`.\n",
    "\n",
    "```python\n",
    "# Exercise 64\n",
    "```"
   ]
  },
  {
   "cell_type": "code",
   "execution_count": 101,
   "id": "6e6f07cb-7daf-44f4-8c0a-f29f7b1ee2eb",
   "metadata": {},
   "outputs": [
    {
     "name": "stdout",
     "output_type": "stream",
     "text": [
      "Counter({'apple': 2, 'banana': 1, 'cherry': 1})\n"
     ]
    }
   ],
   "source": [
    "from collections import Counter\n",
    "\n",
    "example_list = [\"apple\", \"banana\", \"apple\", \"cherry\"]\n",
    "\n",
    "result = Counter(example_list)\n",
    "\n",
    "print(result)"
   ]
  },
  {
   "cell_type": "markdown",
   "id": "a01c7af8-c3da-4362-9093-f6b90c15e330",
   "metadata": {
    "id": "bea983a3"
   },
   "source": [
    "---\n",
    "\n",
    "### Exercise 65:\n",
    "Write a Python program that removes all occurrences of a specific value from a list.\n",
    "\n",
    "```python\n",
    "# Exercise 65\n",
    "```"
   ]
  },
  {
   "cell_type": "code",
   "execution_count": 103,
   "id": "d6c6298a-7d0d-4d0f-bd0f-237e42c25601",
   "metadata": {},
   "outputs": [
    {
     "name": "stdout",
     "output_type": "stream",
     "text": [
      "[1, 3, 4, 5]\n"
     ]
    }
   ],
   "source": [
    "def remove_occurrences(input_list, value_to_remove):\n",
    "    input_list[:] = [x for x in input_list if x != value_to_remove]\n",
    "\n",
    "my_list = [1, 2, 3, 4, 2, 5]\n",
    "remove_occurrences(my_list, 2)\n",
    "print(my_list)"
   ]
  },
  {
   "cell_type": "markdown",
   "id": "ba72ce88-5514-478a-a9af-707794f48149",
   "metadata": {
    "id": "bea983a3"
   },
   "source": [
    "---\n",
    "\n",
    "### Exercise 66:\n",
    "Write a Python function that takes a list of strings and returns a list of the strings that start with a vowel.\n",
    "\n",
    "```python\n",
    "```"
   ]
  },
  {
   "cell_type": "code",
   "execution_count": 104,
   "id": "b08584d7-5da5-4646-9f2c-162ec785194e",
   "metadata": {},
   "outputs": [
    {
     "name": "stdout",
     "output_type": "stream",
     "text": [
      "['apple', 'umbrella', 'orange']\n"
     ]
    }
   ],
   "source": [
    "def vowel_start(strings):\n",
    "    vowels = ('a', 'e', 'i', 'o', 'u')\n",
    "    return [s for s in strings if s.lower().startswith(vowels)]\n",
    "\n",
    "my_list = [\"apple\", \"banana\", \"umbrella\", \"cherry\", \"orange\"]\n",
    "result = vowel_start(my_list)\n",
    "print(result)"
   ]
  },
  {
   "cell_type": "markdown",
   "id": "8bc0ea57-6523-4f11-8905-79575cdcaf86",
   "metadata": {
    "id": "bea983a3"
   },
   "source": [
    "---\n",
    "\n",
    "### Exercise 67:\n",
    "Write a Python program that finds the intersection of two sets `set1` and `set2`.\n",
    "\n",
    "```python\n",
    "```"
   ]
  },
  {
   "cell_type": "code",
   "execution_count": 106,
   "id": "619e8e01-483e-4e68-ae17-845cac37b956",
   "metadata": {},
   "outputs": [
    {
     "name": "stdout",
     "output_type": "stream",
     "text": [
      "[2, 4, 5]\n"
     ]
    }
   ],
   "source": [
    "def intersection_elements(list_1, list_2):\n",
    "    return list(set(list_1) & set(list_2))\n",
    "\n",
    "\n",
    "list_1 = [1, 2, 3, 4, 5]\n",
    "list_2 = [2, 4, 5, 6, 7]\n",
    "\n",
    "result = intersection_elements(list_1, list_2)\n",
    "print(result)"
   ]
  },
  {
   "cell_type": "markdown",
   "id": "3ae46eb8-ec86-4f22-b56c-6a16cce97780",
   "metadata": {
    "id": "bea983a3"
   },
   "source": [
    "---\n",
    "\n",
    "### Exercise 68:\n",
    "Write a Python function that flattens a nested list.\n",
    "\n",
    "```python\n",
    "```"
   ]
  },
  {
   "cell_type": "code",
   "execution_count": 107,
   "id": "4a599663-a269-4353-a5f0-94149f59446a",
   "metadata": {},
   "outputs": [
    {
     "name": "stdout",
     "output_type": "stream",
     "text": [
      "[1, 2, 3, 4, 5, 6, 7]\n"
     ]
    }
   ],
   "source": [
    "def flatten(nested_list):\n",
    "    flat_list = []\n",
    "    for i in nested_list:\n",
    "        if isinstance(i, list):\n",
    "            flat_list.extend(flatten(i))  \n",
    "        else:\n",
    "            flat_list.append(i)\n",
    "    return flat_list\n",
    "\n",
    "nested_list = [1, [2, 3], [4, [5, 6]], 7]\n",
    "result = flatten(nested_list)\n",
    "print(result)"
   ]
  },
  {
   "cell_type": "markdown",
   "id": "ed9543de-c95f-439a-8713-11d813fac772",
   "metadata": {
    "id": "bea983a3"
   },
   "source": [
    "---\n",
    "\n",
    "### Exercise 69:\n",
    "Write a Python program that checks if all the elements in a list are unique.\n",
    "\n",
    "```python\n",
    "```"
   ]
  },
  {
   "cell_type": "code",
   "execution_count": 109,
   "id": "7c1b7aee-d79a-4cbe-ba1d-5d61cfdba411",
   "metadata": {},
   "outputs": [
    {
     "name": "stdout",
     "output_type": "stream",
     "text": [
      "True\n",
      "False\n"
     ]
    }
   ],
   "source": [
    "def are_elements_unique(input_list):\n",
    "    for i in range(len(input_list)):\n",
    "        if input_list[i] in input_list[:i]:  \n",
    "            return False\n",
    "    return True\n",
    "\n",
    "example_list = [1, 2, 3, 4, 5]\n",
    "result = are_elements_unique(example_list)\n",
    "print(result)  \n",
    "\n",
    "example_list_with_duplicates = [1, 2, 3, 4, 4]\n",
    "result_with_duplicates = are_elements_unique(example_list_with_duplicates)\n",
    "print(result_with_duplicates)  "
   ]
  },
  {
   "cell_type": "markdown",
   "id": "2c4a364e-3512-41b9-85f1-454c416f1638",
   "metadata": {
    "id": "bea983a3"
   },
   "source": [
    "---\n",
    "\n",
    "### Exercise 70:\n",
    "Use the `reduce()` function from the `functools` module to multiply all elements in a list.\n",
    "\n",
    "```python\n",
    "```"
   ]
  },
  {
   "cell_type": "code",
   "execution_count": 2,
   "id": "bc50679e-5100-4715-ba82-479b132485f7",
   "metadata": {},
   "outputs": [
    {
     "name": "stdout",
     "output_type": "stream",
     "text": [
      "Product of all elements: 720\n"
     ]
    }
   ],
   "source": [
    "from functools import reduce\n",
    "\n",
    "numbers = [5, 2, 3, 4, 6]\n",
    "\n",
    "def multiply(a, b):\n",
    "    return a * b\n",
    "\n",
    "result = reduce(multiply, numbers)\n",
    "\n",
    "print(f\"Product of all elements:\", result)"
   ]
  },
  {
   "cell_type": "markdown",
   "id": "35ee12af-6dee-4b4f-bafe-ff32e3a68077",
   "metadata": {
    "id": "bea983a3"
   },
   "source": [
    "---\n",
    "\n",
    "### Exercise 71:\n",
    "Write a Python function that takes a list of strings and returns a dictionary where keys are strings and values are their lengths.\n",
    "\n",
    "```python\n",
    "# Exercise 71\n",
    "```"
   ]
  },
  {
   "cell_type": "code",
   "execution_count": 3,
   "id": "12078747-122f-4754-a411-7b6d82a2a12b",
   "metadata": {},
   "outputs": [
    {
     "name": "stdout",
     "output_type": "stream",
     "text": [
      "{'apple': 5, 'banana': 6, 'cherry': 6}\n"
     ]
    }
   ],
   "source": [
    "def strings_to_lengths(strings):\n",
    "    lengths_dict = {}\n",
    "    for s in strings:\n",
    "        lengths_dict[s] = len(s)\n",
    "    return lengths_dict\n",
    "\n",
    "string_list = [\"apple\", \"banana\", \"cherry\"]\n",
    "lengths_dict = strings_to_lengths(string_list)\n",
    "\n",
    "print(lengths_dict)"
   ]
  },
  {
   "cell_type": "markdown",
   "id": "066a51d2-8162-4a78-948f-be4bec5a66d2",
   "metadata": {
    "id": "bea983a3"
   },
   "source": [
    "---\n",
    "\n",
    "### Exercise 72:\n",
    "Write a Python program that counts the number of vowels in a string.\n",
    "\n",
    "```python\n",
    "# Exercise 72\n",
    "```"
   ]
  },
  {
   "cell_type": "code",
   "execution_count": 6,
   "id": "6f0792c3-687a-41a7-945e-4b8c6629e848",
   "metadata": {},
   "outputs": [
    {
     "name": "stdin",
     "output_type": "stream",
     "text": [
      "Enter a string:  a\n"
     ]
    },
    {
     "name": "stdout",
     "output_type": "stream",
     "text": [
      "Number of vowels: 1\n"
     ]
    }
   ],
   "source": [
    "def count_vowels(input_string):\n",
    "    v = \"aeiouAEIOU\" #v stand for vowel\n",
    "    count = 0\n",
    "\n",
    "    for char in input_string:\n",
    "        if char in v:\n",
    "            count += 1\n",
    "\n",
    "    return count\n",
    "\n",
    "user_input = input(\"Enter a string: \")\n",
    "vowel_count = count_vowels(user_input)\n",
    "print(\"Number of vowels:\", vowel_count)"
   ]
  },
  {
   "cell_type": "markdown",
   "id": "fb4d71d7-d899-433a-b88a-6026daa8e47a",
   "metadata": {
    "id": "bea983a3"
   },
   "source": [
    "---\n",
    "\n",
    "### Exercise 73:\n",
    "Create a list of tuples where each tuple contains a number from 1 to 5 and its factorial.\n",
    "\n",
    "```python\n",
    "\n",
    "```"
   ]
  },
  {
   "cell_type": "code",
   "execution_count": 27,
   "id": "ab79389f-7bda-4ebd-b025-84606e74f5ce",
   "metadata": {},
   "outputs": [],
   "source": [
    "def factorials(n):\n",
    "    if n == 0 or n == 1:\n",
    "        return 1\n",
    "    else:\n",
    "        result = 1\n",
    "        for m in range(2, n + 1):\n",
    "            result *= m\n",
    "        return result\n",
    "\n",
    "factorial_list = []\n",
    "\n",
    "for m in range(1, 6):\n",
    "    fact = factorial(m) \n",
    "    factorial_list.append((m, fact))  "
   ]
  },
  {
   "cell_type": "code",
   "execution_count": 28,
   "id": "ad98de57-a534-430f-a878-b9c6929a4c21",
   "metadata": {},
   "outputs": [
    {
     "data": {
      "text/plain": [
       "[(1, 1), (2, 2), (3, 6), (4, 24), (5, 120)]"
      ]
     },
     "execution_count": 28,
     "metadata": {},
     "output_type": "execute_result"
    }
   ],
   "source": [
    "factorial_list"
   ]
  },
  {
   "cell_type": "markdown",
   "id": "fa121be5-352e-4fd7-97d2-5c5ace451542",
   "metadata": {
    "id": "bea983a3"
   },
   "source": [
    "---\n",
    "\n",
    "### Exercise 74:\n",
    "Write a Python program that converts a list of dictionaries into a single dictionary by merging them.\n",
    "\n",
    "```python\n",
    "\n",
    "```"
   ]
  },
  {
   "cell_type": "code",
   "execution_count": 29,
   "id": "8c41d631-fb33-4f30-8e1c-43c02e5a74c9",
   "metadata": {},
   "outputs": [],
   "source": [
    "def merge_dicts(dict_list):\n",
    "    merged_dict = {}\n",
    "    for D in dict_list:\n",
    "        merged_dict.update(D)  \n",
    "    return merged_dict\n",
    "\n",
    "dicts = [\n",
    "    {\"a\": 1, \"b\": 2},\n",
    "    {\"b\": 3, \"c\": 4},\n",
    "    {\"d\": 5}\n",
    "]\n",
    "\n",
    "result = merge_dicts(dicts)"
   ]
  },
  {
   "cell_type": "code",
   "execution_count": 30,
   "id": "e410e97f-2f6a-42b8-8163-242b765674ba",
   "metadata": {},
   "outputs": [
    {
     "data": {
      "text/plain": [
       "{'a': 1, 'b': 3, 'c': 4, 'd': 5}"
      ]
     },
     "execution_count": 30,
     "metadata": {},
     "output_type": "execute_result"
    }
   ],
   "source": [
    "result"
   ]
  },
  {
   "cell_type": "markdown",
   "id": "891e894a-cfb6-4f9a-a7ec-53b7a23601b8",
   "metadata": {
    "id": "bea983a3"
   },
   "source": [
    "---\n",
    "\n",
    "### Exercise 75:\n",
    "Write a Python function that checks if a set is a subset of another set.\n",
    "\n",
    "```python"
   ]
  },
  {
   "cell_type": "code",
   "execution_count": 25,
   "id": "247c2b5a-5d16-4c72-a560-22965e2890bb",
   "metadata": {},
   "outputs": [
    {
     "data": {
      "text/plain": [
       "True"
      ]
     },
     "execution_count": 25,
     "metadata": {},
     "output_type": "execute_result"
    }
   ],
   "source": [
    "def check_subset(set_a, set_b):\n",
    "    for element in set_a:\n",
    "        if element not in set_b:\n",
    "            return False \n",
    "    return True \n",
    "\n",
    "set1 = {1, 2, 3}\n",
    "set2 = {1, 2, 3, 4, 5}\n",
    "\n",
    "result = check_subset(set1, set2)\n",
    "result"
   ]
  },
  {
   "cell_type": "markdown",
   "id": "49e601d4-28c4-4566-a4f6-6872487bf432",
   "metadata": {
    "id": "bea983a3"
   },
   "source": [
    "---\n",
    "\n",
    "### Exercise 76:\n",
    "Write a Python program that sorts a list of tuples based on the second element in each tuple.\n",
    "\n",
    "```python"
   ]
  },
  {
   "cell_type": "code",
   "execution_count": 32,
   "id": "7ac5c1dd-59b9-449a-af2a-e6f7bbc3df06",
   "metadata": {},
   "outputs": [],
   "source": [
    "def sort_element(tuples_list):\n",
    "    return sorted(tuples_list, key=lambda x: x[1])\n",
    "\n",
    "tuples_list = [(1, 3), (4, 1), (2, 2), (3, 5)]\n",
    "sorted_list = sort_element(tuples_list)\n"
   ]
  },
  {
   "cell_type": "code",
   "execution_count": 33,
   "id": "a03a560e-38e6-4109-a3c3-9f70205acffc",
   "metadata": {},
   "outputs": [
    {
     "data": {
      "text/plain": [
       "[(4, 1), (2, 2), (1, 3), (3, 5)]"
      ]
     },
     "execution_count": 33,
     "metadata": {},
     "output_type": "execute_result"
    }
   ],
   "source": [
    "sorted_list"
   ]
  },
  {
   "cell_type": "markdown",
   "id": "2776547d-32ac-4943-905c-7ee04d83c815",
   "metadata": {
    "id": "bea983a3"
   },
   "source": [
    "### Exercise 77:\n",
    "Write a Python function that takes a list of integers and returns a new list with only the positive integers.\n",
    "\n",
    "```python"
   ]
  },
  {
   "cell_type": "code",
   "execution_count": 44,
   "id": "66b0728e-01e3-4dbf-a2ce-8ac3a797a9c4",
   "metadata": {},
   "outputs": [],
   "source": [
    "def positive_int(int_list):\n",
    "    positive_integers = []\n",
    "    for x in int_list:\n",
    "        if x > 0:  \n",
    "            positive_integers.append(x) \n",
    "    return positive_integers  \n",
    "    \n",
    "nums = [-10, 5, 0, 3, -2, 8]\n",
    "positive_num = positive_int(nums)"
   ]
  },
  {
   "cell_type": "code",
   "execution_count": 45,
   "id": "3a1400d9-5516-4e6c-a041-a08bea4787ad",
   "metadata": {},
   "outputs": [
    {
     "data": {
      "text/plain": [
       "[5, 3, 8]"
      ]
     },
     "execution_count": 45,
     "metadata": {},
     "output_type": "execute_result"
    }
   ],
   "source": [
    "positive_num"
   ]
  },
  {
   "cell_type": "markdown",
   "id": "15da6f28-f675-4a8d-9223-d924b00a1e23",
   "metadata": {
    "id": "bea983a3"
   },
   "source": [
    "### Exercise 78:\n",
    "Write a Python function that takes two sets and returns their union.\n",
    "\n",
    "```python"
   ]
  },
  {
   "cell_type": "code",
   "execution_count": 46,
   "id": "df4b45d3-7b62-429a-a68a-2a8d91c828b1",
   "metadata": {},
   "outputs": [],
   "source": [
    "def sets_union(set_a, set_b):\n",
    "    return set_a | set_b  \n",
    "\n",
    "set1 = {1, 2, 3}\n",
    "set2 = {3, 4, 5}\n",
    "\n",
    "result = sets_union(set1, set2)"
   ]
  },
  {
   "cell_type": "code",
   "execution_count": 47,
   "id": "8c6cd9d3-6154-4dcc-b486-7b12593875f4",
   "metadata": {},
   "outputs": [
    {
     "data": {
      "text/plain": [
       "{1, 2, 3, 4, 5}"
      ]
     },
     "execution_count": 47,
     "metadata": {},
     "output_type": "execute_result"
    }
   ],
   "source": [
    "result"
   ]
  },
  {
   "cell_type": "markdown",
   "id": "8a2fcbdf-4b1f-4db7-816b-362e8929085e",
   "metadata": {
    "id": "bea983a3"
   },
   "source": [
    "### Exercise 79:\n",
    "Write a Python function that takes a list of numbers and returns the product of all the numbers.\n",
    "\n",
    "```python"
   ]
  },
  {
   "cell_type": "code",
   "execution_count": 49,
   "id": "c4e67aff-ab84-41e8-86f7-496cb67a606e",
   "metadata": {
    "id": "bea983a3"
   },
   "outputs": [],
   "source": [
    "def product(num_list):\n",
    "    product = 1  \n",
    "    for num in num_list:\n",
    "        product *= num  \n",
    "    return product\n",
    "\n",
    "numbers = [1, 2, 3, 4, 5]\n",
    "result = product(numbers)"
   ]
  },
  {
   "cell_type": "code",
   "execution_count": 50,
   "id": "c7dd9d94-29a7-4137-9041-1b1bee6069b5",
   "metadata": {},
   "outputs": [
    {
     "data": {
      "text/plain": [
       "120"
      ]
     },
     "execution_count": 50,
     "metadata": {},
     "output_type": "execute_result"
    }
   ],
   "source": [
    "result"
   ]
  },
  {
   "cell_type": "markdown",
   "id": "1cbc726e-a73a-4827-a2b0-a40bbfbed89d",
   "metadata": {
    "id": "bea983a3"
   },
   "source": [
    "### Exercise 80:\n",
    "Write a Python program that converts a list of characters into a string.\n",
    "\n",
    "```python\n",
    "\n",
    "```"
   ]
  },
  {
   "cell_type": "code",
   "execution_count": 61,
   "id": "c7e06d3b-eefd-49f8-b19e-2f7693c8d4e5",
   "metadata": {},
   "outputs": [],
   "source": [
    "def list_to_string(char_list):\n",
    "    return ''.join(char_list)  \n",
    "\n",
    "\n",
    "char = ['H', 'e', 'l', 'l', 'o', ' ', 'W', 'o', 'r', 'l', 'd']\n",
    "result = list_to_string(char)"
   ]
  },
  {
   "cell_type": "code",
   "execution_count": 62,
   "id": "605794ac-dd40-4263-94a5-abe315f694a6",
   "metadata": {},
   "outputs": [
    {
     "data": {
      "text/plain": [
       "'Hello World'"
      ]
     },
     "execution_count": 62,
     "metadata": {},
     "output_type": "execute_result"
    }
   ],
   "source": [
    "result"
   ]
  },
  {
   "cell_type": "markdown",
   "id": "51da9276-813a-4104-8ebb-1a792080771f",
   "metadata": {
    "id": "bea983a3"
   },
   "source": [
    "---\n",
    "\n",
    "### Exercise 81:\n",
    "Write a Python program that finds the second largest number in a list of integers.\n",
    "\n",
    "```python\n",
    "\n",
    "```"
   ]
  },
  {
   "cell_type": "code",
   "execution_count": 65,
   "id": "50c6d845-f6e8-43e7-a14e-ef983ccbe6f4",
   "metadata": {},
   "outputs": [],
   "source": [
    "def second_larg(numbers):\n",
    "    if len(numbers) < 2:\n",
    "        return None   # where secpnd_larg stand for second largest unmber in an integer's list\n",
    "\n",
    "    first = second = float('-inf')  \n",
    "\n",
    "    for num in numbers:\n",
    "        if num > first:\n",
    "            second = first \n",
    "            first = num  \n",
    "        elif first > num > second:\n",
    "            second = num  \n",
    "\n",
    "    return second if second != float('-inf') else None  \n",
    "\n",
    "integers = [7, 3, 9, 1, 4]\n",
    "result = second_larg(integers)"
   ]
  },
  {
   "cell_type": "code",
   "execution_count": 66,
   "id": "abca1754-0681-4f4e-8b44-098c781ec1d8",
   "metadata": {},
   "outputs": [
    {
     "data": {
      "text/plain": [
       "7"
      ]
     },
     "execution_count": 66,
     "metadata": {},
     "output_type": "execute_result"
    }
   ],
   "source": [
    "result"
   ]
  },
  {
   "cell_type": "markdown",
   "id": "5aa65364-a3ed-413a-872e-9774c93c5d03",
   "metadata": {
    "id": "bea983a3"
   },
   "source": [
    "---\n",
    "\n",
    "### Exercise 82:\n",
    "Write a Python function that takes a dictionary and returns a list of its keys in sorted order.\n",
    "\n",
    "```python\n",
    "\n",
    "```"
   ]
  },
  {
   "cell_type": "code",
   "execution_count": 67,
   "id": "f2f1128f-54cc-4ec2-9a41-63551941b390",
   "metadata": {},
   "outputs": [],
   "source": [
    "def sorted_keys(input_dict):\n",
    "    return sorted(input_dict.keys())  \n",
    "\n",
    "my_dict = {'x': 2, 'y': 1, 'z': 3}\n",
    "sorted_list = sorted_keys(my_dict)"
   ]
  },
  {
   "cell_type": "code",
   "execution_count": 68,
   "id": "89b282bf-12a5-4b48-8c40-ff148a90779c",
   "metadata": {},
   "outputs": [
    {
     "data": {
      "text/plain": [
       "['x', 'y', 'z']"
      ]
     },
     "execution_count": 68,
     "metadata": {},
     "output_type": "execute_result"
    }
   ],
   "source": [
    "sorted_list"
   ]
  },
  {
   "cell_type": "markdown",
   "id": "f3724cfa-4909-4160-9bad-1ecd72f15a25",
   "metadata": {
    "id": "bea983a3"
   },
   "source": [
    "---\n",
    "\n",
    "### Exercise 83:\n",
    "Write a Python program that finds the most common element in a list.\n",
    "\n",
    "```python\n",
    "\n",
    "```"
   ]
  },
  {
   "cell_type": "code",
   "execution_count": 74,
   "id": "e771fcf3-85d8-471f-a1a7-cee2647310ae",
   "metadata": {},
   "outputs": [
    {
     "name": "stdout",
     "output_type": "stream",
     "text": [
      "commonnes element: 2 (appears 3 times)\n",
      "commonnest element: apple (appears 3 times)\n"
     ]
    }
   ],
   "source": [
    "from collections import Counter\n",
    "\n",
    "def most_common(lst):\n",
    "    \"\"\"\n",
    "    Find the most common element in a list.\n",
    "    Returns a tuple of (element, count).\n",
    "    \"\"\"\n",
    "    if not lst:\n",
    "        return None\n",
    "    \n",
    "    counter = Counter(lst)\n",
    "    return counter.most_common(1)[0]\n",
    "\n",
    "my_list1 = [2, 5, 2, 6, 4, 1, 3, 2, 1, 5]\n",
    "element, count = most_common(my_list)\n",
    "print(f\"commonnes element: {element} (appears {count} times)\")\n",
    "\n",
    "words = [\"apple\", \"banana\", \"apple\", \"orange\", \"banana\", \"apple\"]\n",
    "element, count = most_common(words)\n",
    "print(f\"commonnest element: {element} (appears {count} times)\")"
   ]
  },
  {
   "cell_type": "markdown",
   "id": "234ff35c-2c9d-4905-8a91-9cbb13116571",
   "metadata": {
    "id": "bea983a3"
   },
   "source": [
    "---\n",
    "\n",
    "### Exercise 84:\n",
    "Write a Python function that takes a list of tuples and returns a list of the tuples sorted by the first element.\n",
    "\n",
    "```python\n",
    "\n",
    "```"
   ]
  },
  {
   "cell_type": "code",
   "execution_count": 81,
   "id": "8557c31e-1479-4b7c-b4aa-c13fc7b2e305",
   "metadata": {},
   "outputs": [],
   "source": [
    "def sort_tuples(tuples_list):\n",
    "    \"\"\"\n",
    "    Sort a list of tuples by the first element of each tuple.\n",
    "    \n",
    "       \n",
    "    Returns:\n",
    "        List of tuples sorted by the first element\n",
    "    \"\"\"\n",
    "    return sorted(tuples_list, key=lambda x: x[0])\n",
    "\n",
    "my_tuples1 = [(3, 'apple'), (1, 'banana'), (2, 'cherry'), (1, 'date')]\n",
    "sorted_tuples = sort_tuples(my_tuples1)"
   ]
  },
  {
   "cell_type": "code",
   "execution_count": 82,
   "id": "f3ad2acb-12a0-46e4-af15-fca9438f3b9d",
   "metadata": {},
   "outputs": [
    {
     "data": {
      "text/plain": [
       "[(1, 'banana'), (1, 'date'), (2, 'cherry'), (3, 'apple')]"
      ]
     },
     "execution_count": 82,
     "metadata": {},
     "output_type": "execute_result"
    }
   ],
   "source": [
    "sorted_tuples"
   ]
  },
  {
   "cell_type": "markdown",
   "id": "6e604e2d-a3fe-40c7-a717-a5ac3d5db98b",
   "metadata": {
    "id": "bea983a3"
   },
   "source": [
    "---\n",
    "\n",
    "### Exercise 85:\n",
    "Write a Python program that removes duplicates from a list of dictionaries.\n",
    "\n",
    "```python\n",
    "\n",
    "```"
   ]
  },
  {
   "cell_type": "code",
   "execution_count": 79,
   "id": "af8297fc-5334-4fde-b489-1dd58c8f1bd0",
   "metadata": {},
   "outputs": [
    {
     "name": "stdout",
     "output_type": "stream",
     "text": [
      "[1, 3, 4, 5]\n"
     ]
    }
   ],
   "source": [
    "def remove_duplicates(input_list, value_to_remove):\n",
    "    input_list[:] = [x for x in input_list if x != value_to_remove]\n",
    "\n",
    "my_list = [1, 2, 3, 4, 2, 5]\n",
    "remove_duplicates(my_list, 2)"
   ]
  },
  {
   "cell_type": "code",
   "execution_count": 80,
   "id": "d5aa2ed1-8e20-46ca-b433-f0948d9d90e1",
   "metadata": {},
   "outputs": [
    {
     "data": {
      "text/plain": [
       "[1, 3, 4, 5]"
      ]
     },
     "execution_count": 80,
     "metadata": {},
     "output_type": "execute_result"
    }
   ],
   "source": [
    "my_list"
   ]
  },
  {
   "cell_type": "markdown",
   "id": "5d42c5cd-7949-43ca-a36d-fbeac0d66917",
   "metadata": {
    "id": "bea983a3"
   },
   "source": [
    "---\n",
    "\n",
    "### Exercise 86:\n",
    "Write a Python function that takes a list of numbers and returns the minimum and maximum numbers in the list.\n",
    "\n",
    "```python\n",
    "\n",
    "```"
   ]
  },
  {
   "cell_type": "code",
   "execution_count": 88,
   "id": "236bc997-38d1-4b9e-b6af-2a8c3ab81386",
   "metadata": {},
   "outputs": [
    {
     "name": "stdout",
     "output_type": "stream",
     "text": [
      "List: [3, 1, 4, 1, 5, 9, 2, 6]\n",
      "Min: 1, Max: 9\n",
      "\n",
      "List: [-5, 10, 2, 8, -3, 15]\n",
      "Min: -5, Max: 15\n",
      "\n",
      "Empty list result: None\n"
     ]
    }
   ],
   "source": [
    "def min_max(numbers):\n",
    "   \n",
    "    if not numbers:\n",
    "        return None\n",
    "    \n",
    "    min_num = numbers[0]\n",
    "    max_num = numbers[0]\n",
    "    \n",
    "    for num in numbers:\n",
    "        if num < min_num:\n",
    "            min_num = num\n",
    "        if num > max_num:\n",
    "            max_num = num\n",
    "    \n",
    "    return min_num, max_num\n",
    "\n",
    "first_numbers = [3, 1, 4, 1, 5, 9, 2, 6]\n",
    "min_val, max_val = min_max(first_numbers)\n",
    "print(f\"List: {first_numbers}\")\n",
    "print(f\"Min: {min_val}, Max: {max_val}\")\n",
    "\n",
    "second_numbers = [-5, 10, 2, 8, -3, 15]\n",
    "min_val, max_val = min_max(second_numbers)\n",
    "print(f\"\\nList: {second_numbers}\")\n",
    "print(f\"Min: {min_val}, Max: {max_val}\")\n",
    "\n",
    "empty_list = []\n",
    "result = min_max(empty_list)\n",
    "print(f\"\\nEmpty list result: {result}\")"
   ]
  },
  {
   "cell_type": "markdown",
   "id": "0caed411-6bdb-416a-bf17-35289185f7b5",
   "metadata": {
    "id": "bea983a3"
   },
   "source": [
    "---\n",
    "\n",
    "### Exercise 87:\n",
    "Write a Python program that creates a list of tuples from two lists.\n",
    "\n",
    "```python\n",
    "\n",
    "```"
   ]
  },
  {
   "cell_type": "code",
   "execution_count": 89,
   "id": "9cee068f-2aa7-400b-a101-b4d440e41f52",
   "metadata": {},
   "outputs": [],
   "source": [
    "def list_tuples(list1, list2):\n",
    "    return list(zip(list1, list2))\n",
    "\n",
    "names = ['Alice', 'Bob', 'Charlie']\n",
    "ages = [25, 30, 35]\n",
    "result = list_tuples(names, ages)"
   ]
  },
  {
   "cell_type": "code",
   "execution_count": 90,
   "id": "76b674f1-3bfb-4663-96df-65185878177e",
   "metadata": {},
   "outputs": [
    {
     "data": {
      "text/plain": [
       "[('Alice', 25), ('Bob', 30), ('Charlie', 35)]"
      ]
     },
     "execution_count": 90,
     "metadata": {},
     "output_type": "execute_result"
    }
   ],
   "source": [
    "result"
   ]
  },
  {
   "cell_type": "markdown",
   "id": "8f26979f-5943-4851-8c3b-de0b60b08849",
   "metadata": {
    "id": "bea983a3"
   },
   "source": [
    "---\n",
    "\n",
    "### Exercise 88:\n",
    "Write a Python function that takes a list of strings and returns a list of the strings in reverse order.\n",
    "\n",
    "```python\n",
    "```"
   ]
  },
  {
   "cell_type": "code",
   "execution_count": 91,
   "id": "2996ab43-6a3c-41ab-9c9b-3373894ec39a",
   "metadata": {},
   "outputs": [],
   "source": [
    "def reverse_order(strings):\n",
    "    return strings[::-1]\n",
    "\n",
    "words = ['hello', 'Wandiya', 'James']\n",
    "result = reverse_order(words)"
   ]
  },
  {
   "cell_type": "code",
   "execution_count": 92,
   "id": "c85ee455-fbde-4a73-985c-322ed270cddd",
   "metadata": {},
   "outputs": [
    {
     "data": {
      "text/plain": [
       "['James', 'Wandiya', 'hello']"
      ]
     },
     "execution_count": 92,
     "metadata": {},
     "output_type": "execute_result"
    }
   ],
   "source": [
    "result"
   ]
  },
  {
   "cell_type": "markdown",
   "id": "cf9c9b09-b504-47e3-afeb-ab9e69cc4d3e",
   "metadata": {
    "id": "bea983a3"
   },
   "source": [
    "---\n",
    "\n",
    "### Exercise 89:\n",
    "Write a Python function that takes a list of integers and returns the sum of all odd numbers.\n",
    "\n",
    "```python\n",
    "\n",
    "```"
   ]
  },
  {
   "cell_type": "code",
   "execution_count": 94,
   "id": "f2a25a02-13f3-46a5-8c52-75aeb431d4f2",
   "metadata": {},
   "outputs": [],
   "source": [
    "def sum_of_odd_numbers(numbers):\n",
    "    return sum(num for num in numbers if num % 2 != 0)\n",
    "\n",
    "nums = [1, 7, 3, 4, 5, 6]\n",
    "result = sum_of_odd_numbers(nums)"
   ]
  },
  {
   "cell_type": "code",
   "execution_count": 95,
   "id": "8e733dbf-6a04-4d75-a5ec-7cff32bea2d6",
   "metadata": {},
   "outputs": [
    {
     "data": {
      "text/plain": [
       "16"
      ]
     },
     "execution_count": 95,
     "metadata": {},
     "output_type": "execute_result"
    }
   ],
   "source": [
    "result"
   ]
  },
  {
   "cell_type": "markdown",
   "id": "9b1fedd9-8875-4ef0-9852-b1331961dce2",
   "metadata": {
    "id": "bea983a3"
   },
   "source": [
    "---\n",
    "\n",
    "### Exercise 90:\n",
    "Write a Python program that checks if a string is a palindrome.\n",
    "\n",
    "```python\n",
    "\n",
    "```"
   ]
  },
  {
   "cell_type": "code",
   "execution_count": 97,
   "id": "63d46765-c4cf-4c26-bed5-a82e31d8a009",
   "metadata": {},
   "outputs": [],
   "source": [
    "def check_palindrome(s):\n",
    "    return s == s[::-1]  "
   ]
  },
  {
   "cell_type": "code",
   "execution_count": 99,
   "id": "f888db3b-0561-407e-8296-66b39d5da125",
   "metadata": {},
   "outputs": [
    {
     "name": "stdout",
     "output_type": "stream",
     "text": [
      "True\n"
     ]
    }
   ],
   "source": [
    "print(check_palindrome(\"racecar\"))  "
   ]
  },
  {
   "cell_type": "code",
   "execution_count": 100,
   "id": "d8fb81df-f0d1-4c1c-87e4-16f2fbe28e4a",
   "metadata": {},
   "outputs": [
    {
     "name": "stdout",
     "output_type": "stream",
     "text": [
      "False\n"
     ]
    }
   ],
   "source": [
    "print(check_palindrome(\"hello\")) "
   ]
  },
  {
   "cell_type": "markdown",
   "id": "805073d3-f28f-404d-a8ab-3d6e7802082b",
   "metadata": {
    "id": "bea983a3"
   },
   "source": [
    "---\n",
    "\n",
    "### Exercise 91:\n",
    "Write a Python program that finds the median of a list of numbers.\n",
    "\n",
    "```python\n",
    "```"
   ]
  },
  {
   "cell_type": "code",
   "execution_count": 103,
   "id": "cddce573-20d1-4ae4-a07c-9d385e11c42c",
   "metadata": {},
   "outputs": [],
   "source": [
    "def median(num):\n",
    "    num.sort()\n",
    "    n = len(num)\n",
    "    mid = n // 2\n",
    "    \n",
    "    if n % 2 == 0:\n",
    "        return (num[mid-1] + num[mid]) / 2\n",
    "    else:\n",
    "        return num[mid]"
   ]
  },
  {
   "cell_type": "code",
   "execution_count": 104,
   "id": "9939eafa-bdd0-4330-a7a4-6a2285692d77",
   "metadata": {},
   "outputs": [
    {
     "name": "stdout",
     "output_type": "stream",
     "text": [
      "3\n"
     ]
    }
   ],
   "source": [
    "print(median([1, 3, 5]))   "
   ]
  },
  {
   "cell_type": "markdown",
   "id": "ba4004b9-5395-434f-b0a7-86168afb65fa",
   "metadata": {
    "id": "bea983a3"
   },
   "source": [
    "---\n",
    "\n",
    "### Exercise 92:\n",
    "Write a Python function that takes a list of dictionaries and returns a dictionary with the total value for each key.\n",
    "\n",
    "```python"
   ]
  },
  {
   "cell_type": "code",
   "execution_count": 105,
   "id": "f9a18e27-a897-4a8b-896a-651624d2bb3b",
   "metadata": {},
   "outputs": [],
   "source": [
    "def sum__of_dicts(dicts):\n",
    "    total = {}\n",
    "    for d in dicts:\n",
    "        for k, v in d.items():\n",
    "            total[k] = total.get(k, 0) + v\n",
    "    return total\n",
    "\n",
    "data = [{'a': 1, 'b': 2}, {'a': 3, 'c': 4}]"
   ]
  },
  {
   "cell_type": "code",
   "execution_count": 106,
   "id": "df65e152-7086-42e4-b64a-ada455e6029b",
   "metadata": {},
   "outputs": [
    {
     "data": {
      "text/plain": [
       "[{'a': 1, 'b': 2}, {'a': 3, 'c': 4}]"
      ]
     },
     "execution_count": 106,
     "metadata": {},
     "output_type": "execute_result"
    }
   ],
   "source": [
    "data"
   ]
  },
  {
   "cell_type": "markdown",
   "id": "f72d35ec-5713-4483-9763-ea004b5d1e62",
   "metadata": {
    "id": "bea983a3"
   },
   "source": [
    "---\n",
    "\n",
    "### Exercise 93:\n",
    "Write a Python program that calculates the mode of a list of numbers.\n",
    "\n",
    "```python"
   ]
  },
  {
   "cell_type": "code",
   "execution_count": 107,
   "id": "c74f811e-fa8a-44f4-9f08-05889c961c71",
   "metadata": {},
   "outputs": [],
   "source": [
    "def mode(numbers):\n",
    "    return max(numbers, key=numbers.count)\n",
    "\n",
    "nums = [1, 2, 2, 3, 3, 3, 4]"
   ]
  },
  {
   "cell_type": "code",
   "execution_count": 108,
   "id": "76415222-1414-4602-93fe-e8dd6a18ed2f",
   "metadata": {},
   "outputs": [
    {
     "data": {
      "text/plain": [
       "3"
      ]
     },
     "execution_count": 108,
     "metadata": {},
     "output_type": "execute_result"
    }
   ],
   "source": [
    "mode(nums)"
   ]
  },
  {
   "cell_type": "markdown",
   "id": "3cc1ff4e-23d0-4c5c-b3a6-80ff95c91c16",
   "metadata": {
    "id": "bea983a3"
   },
   "source": [
    "---\n",
    "\n",
    "### Exercise 94:\n",
    "Write a Python function that takes a list of numbers and returns the sum of the squares of all the numbers.\n",
    "\n",
    "```python\n",
    "\n",
    "```"
   ]
  },
  {
   "cell_type": "code",
   "execution_count": 113,
   "id": "83cab0f9-8703-43e4-8ba9-bef811121e9b",
   "metadata": {},
   "outputs": [],
   "source": [
    "def sum_of_squares(numbers):\n",
    "    return sum(x * x for x in numbers)\n",
    "\n",
    "nums = [1, 2, 3]"
   ]
  },
  {
   "cell_type": "code",
   "execution_count": 115,
   "id": "9bb89064-93e9-462c-8f2c-82b15d87a4d9",
   "metadata": {},
   "outputs": [
    {
     "data": {
      "text/plain": [
       "14"
      ]
     },
     "execution_count": 115,
     "metadata": {},
     "output_type": "execute_result"
    }
   ],
   "source": [
    "sum_of_squares(nums)"
   ]
  },
  {
   "cell_type": "markdown",
   "id": "5d5b5d84-c3b4-47c1-b8ff-f0126d1e6a5f",
   "metadata": {
    "id": "bea983a3"
   },
   "source": [
    "---\n",
    "\n",
    "### Exercise 95:\n",
    "Write a Python program that creates a list of tuples, where each tuple contains a number and its cube for numbers from 1 to 5.\n",
    "\n",
    "```python"
   ]
  },
  {
   "cell_type": "code",
   "execution_count": 117,
   "id": "3aa313f2-db5d-47b7-8f6e-33b973133d1e",
   "metadata": {},
   "outputs": [],
   "source": [
    "result = [(x, x**3) for x in range(1, 7)]"
   ]
  },
  {
   "cell_type": "code",
   "execution_count": 118,
   "id": "794f52b8-891d-458d-a636-759a714f2462",
   "metadata": {},
   "outputs": [
    {
     "data": {
      "text/plain": [
       "[(1, 1), (2, 8), (3, 27), (4, 64), (5, 125), (6, 216)]"
      ]
     },
     "execution_count": 118,
     "metadata": {},
     "output_type": "execute_result"
    }
   ],
   "source": [
    "result"
   ]
  },
  {
   "cell_type": "markdown",
   "id": "cf983bcb-75f2-49b1-9fa8-fa2d9aaeb735",
   "metadata": {
    "id": "bea983a3"
   },
   "source": [
    "```"
   ]
  },
  {
   "cell_type": "markdown",
   "id": "709d5ec0-54c2-45db-a84b-f4144ae59099",
   "metadata": {
    "id": "bea983a3"
   },
   "source": [
    "---\n",
    "\n",
    "### Exercise 96:\n",
    "Write a Python function that returns a list of all prime numbers up to `n`.\n",
    "\n",
    "```python\n",
    "\n",
    "```"
   ]
  },
  {
   "cell_type": "code",
   "execution_count": 119,
   "id": "17b02b08-c777-4d2c-90c5-ac73b86e12bc",
   "metadata": {},
   "outputs": [],
   "source": [
    "def prime_nums(n):\n",
    "    primes = []\n",
    "    for num in range(2, n + 1):\n",
    "        if all(num % i != 0 for i in range(2, int(num**0.5) + 1)):\n",
    "            primes.append(num)\n",
    "    return primes"
   ]
  },
  {
   "cell_type": "code",
   "execution_count": 120,
   "id": "739312e0-de2b-4ee9-9e49-3a457ac28c82",
   "metadata": {},
   "outputs": [
    {
     "name": "stdout",
     "output_type": "stream",
     "text": [
      "[2, 3, 5, 7, 11, 13, 17, 19]\n"
     ]
    }
   ],
   "source": [
    "print(prime_nums(20))"
   ]
  },
  {
   "cell_type": "markdown",
   "id": "bcb5f401-e242-46bc-b1ef-ceb41f1acbe6",
   "metadata": {
    "id": "bea983a3"
   },
   "source": [
    "---\n",
    "\n",
    "### Exercise 97:\n",
    "Write a Python program that finds the common keys between two dictionaries."
   ]
  },
  {
   "cell_type": "code",
   "execution_count": 121,
   "id": "d17a6b12-2682-4aa5-ab3f-fa5f2b547023",
   "metadata": {},
   "outputs": [],
   "source": [
    "def find_common_keys(dict1, dict2):\n",
    "    return dict1.keys() & dict2.keys()\n",
    "    \n",
    "b1 = {'a': 1, 'b': 2, 'c': 3}\n",
    "b2 = {'b': 4, 'c': 5, 'd': 6}"
   ]
  },
  {
   "cell_type": "code",
   "execution_count": 127,
   "id": "ff2715db-8397-468c-bf8d-093a85c3d4f2",
   "metadata": {},
   "outputs": [
    {
     "name": "stdout",
     "output_type": "stream",
     "text": [
      "{'b', 'c'}\n"
     ]
    }
   ],
   "source": [
    "print(find_common_keys(b1, b2))  "
   ]
  },
  {
   "cell_type": "markdown",
   "id": "4ad2d17b-7e37-44be-8e6a-bb615ff19bef",
   "metadata": {
    "id": "bea983a3"
   },
   "source": [
    "---\n",
    "\n",
    "### Exercise 98:\n",
    "Write a Python function that takes a list of strings and returns a list of the strings that contain more than 5 characters."
   ]
  },
  {
   "cell_type": "code",
   "execution_count": 129,
   "id": "2ad42875-d424-4aa9-8ea1-6e982f861794",
   "metadata": {},
   "outputs": [],
   "source": [
    "def list_strings(strings):\n",
    "    return [s for s in strings if len(s) > 5]\n",
    "\n",
    "fruits = ['apple', 'banana', 'cat', 'elephant']"
   ]
  },
  {
   "cell_type": "code",
   "execution_count": 130,
   "id": "4da54e7f-e40c-430d-ab06-9b82ff0c0d35",
   "metadata": {},
   "outputs": [
    {
     "name": "stdout",
     "output_type": "stream",
     "text": [
      "['banana', 'elephant']\n"
     ]
    }
   ],
   "source": [
    "print(list_strings(fruits))"
   ]
  },
  {
   "cell_type": "markdown",
   "id": "35e8aa86-ce0c-4eff-8623-529965b964d9",
   "metadata": {},
   "source": [
    "---\n",
    "\n",
    "### Exercise 99:\n",
    "Write a Python program that converts a list of strings into a list of tuples, where each tuple contains the string and its length."
   ]
  },
  {
   "cell_type": "code",
   "execution_count": 132,
   "id": "6d8c3789-3dd9-4e41-84dc-77ca89fc042e",
   "metadata": {},
   "outputs": [],
   "source": [
    "\n",
    "def strings_length(strings):\n",
    "    return [(s, len(s)) for s in strings]\n",
    "\n",
    "words = ['apple', 'dog', 'cat'] "
   ]
  },
  {
   "cell_type": "code",
   "execution_count": 134,
   "id": "f0bd798b-fda1-4f5a-b79e-ea838af9fba2",
   "metadata": {},
   "outputs": [
    {
     "name": "stdout",
     "output_type": "stream",
     "text": [
      "[('apple', 5), ('dog', 3), ('cat', 3)]\n"
     ]
    }
   ],
   "source": [
    "print(strings_length(words))"
   ]
  },
  {
   "cell_type": "markdown",
   "id": "b5fe74fe-a892-4dd8-88c4-23d3facf29b9",
   "metadata": {},
   "source": [
    "---\n",
    "### Exercise 100:\n",
    "Write a Python function that takes a list of dictionaries and returns a new dictionary by summing the values of each key across all dictionaries."
   ]
  },
  {
   "cell_type": "code",
   "execution_count": 137,
   "id": "ca075248-71fd-47e8-93bf-1840e8f64af4",
   "metadata": {},
   "outputs": [
    {
     "name": "stdout",
     "output_type": "stream",
     "text": [
      "{'x': 4, 'y': 6}\n"
     ]
    }
   ],
   "source": [
    "def sum_of_dict_values(dicts):\n",
    "    result = {}\n",
    "    for dictionary in dicts:\n",
    "        for key, value in dictionary.items():\n",
    "            if key in result:\n",
    "                result[key] += value\n",
    "            else:\n",
    "                result[key] = value\n",
    "    return result\n",
    "\n",
    "\n",
    "data = [{'x': 1, 'y': 2}, {'x': 3, 'y': 4}]\n",
    "print(sum_of_dict_values(data)) "
   ]
  },
  {
   "cell_type": "code",
   "execution_count": null,
   "id": "89e12a83-ab3d-4100-8b33-eaef81a54813",
   "metadata": {},
   "outputs": [],
   "source": []
  }
 ],
 "metadata": {
  "colab": {
   "provenance": []
  },
  "kernelspec": {
   "display_name": "Python [conda env:base] *",
   "language": "python",
   "name": "conda-base-py"
  },
  "language_info": {
   "codemirror_mode": {
    "name": "ipython",
    "version": 3
   },
   "file_extension": ".py",
   "mimetype": "text/x-python",
   "name": "python",
   "nbconvert_exporter": "python",
   "pygments_lexer": "ipython3",
   "version": "3.13.5"
  }
 },
 "nbformat": 4,
 "nbformat_minor": 5
}
