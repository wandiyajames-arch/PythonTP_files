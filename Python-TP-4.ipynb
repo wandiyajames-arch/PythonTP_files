{
 "cells": [
  {
   "cell_type": "markdown",
   "id": "d68c1dee",
   "metadata": {
    "id": "d68c1dee"
   },
   "source": [
    "# Practical_4: Flow control"
   ]
  },
  {
   "cell_type": "markdown",
   "id": "387aa5e3-9564-4bd8-b78e-d877e111fb46",
   "metadata": {
    "id": "bea983a3"
   },
   "source": [
    "---\n",
    "\n",
    "### Exercise 1:\n",
    "Write a Python program that checks if a number is positive or negative.\n",
    "\n",
    "```python\n",
    "```"
   ]
  },
  {
   "cell_type": "code",
   "execution_count": 151,
   "id": "68a8bd2d-f7e6-4ceb-928a-8a1380c33133",
   "metadata": {},
   "outputs": [
    {
     "name": "stdin",
     "output_type": "stream",
     "text": [
      "Enter a number:  20\n"
     ]
    },
    {
     "name": "stdout",
     "output_type": "stream",
     "text": [
      "The number is positive\n"
     ]
    }
   ],
   "source": [
    "my_number = float(input(\"Enter a number: \"))\n",
    "if my_number > 0:\n",
    "    print(\"The number is positive\")\n",
    "elif my_number < 0:\n",
    "    print(\"The number is negative\")\n",
    "else:\n",
    "    print(\"The number is zero\")"
   ]
  },
  {
   "cell_type": "markdown",
   "id": "33385442-3cad-4d03-bd90-85b67dca7334",
   "metadata": {
    "id": "bea983a3"
   },
   "source": [
    "---\n",
    "\n",
    "### Exercise 2:\n",
    "Write a Python function that checks if a string starts with a vowel.\n",
    "\n",
    "```python\n",
    "# Exercise 2\n",
    "```"
   ]
  },
  {
   "cell_type": "code",
   "execution_count": 8,
   "id": "d997c55d-474a-4b7e-8865-39e6a93f28a2",
   "metadata": {},
   "outputs": [],
   "source": [
    "def starts_vowel(word):\n",
    "    vowels = \"AEIOUaeiou\"\n",
    "    if word[0] in vowels:\n",
    "        return True\n",
    "    else:\n",
    "        return False"
   ]
  },
  {
   "cell_type": "code",
   "execution_count": 9,
   "id": "00479965-fe24-4314-ba11-bc6861538c21",
   "metadata": {},
   "outputs": [
    {
     "name": "stdout",
     "output_type": "stream",
     "text": [
      "True\n"
     ]
    }
   ],
   "source": [
    "print(starts_vowel(\"apple\"))   "
   ]
  },
  {
   "cell_type": "markdown",
   "id": "b7ada68f-a770-43ab-af7e-75b9e746e57b",
   "metadata": {
    "id": "bea983a3"
   },
   "source": [
    "---\n",
    "\n",
    "### Exercise 3:\n",
    "Write a Python program that takes a list of integers and prints \"Even\" for each even number and \"Odd\" for each odd number.\n",
    "\n",
    "```python\n",
    "# Exercise 3\n",
    "```"
   ]
  },
  {
   "cell_type": "code",
   "execution_count": 152,
   "id": "87edda1d-0704-4549-a6b7-e39cdcd916ba",
   "metadata": {},
   "outputs": [
    {
     "name": "stdout",
     "output_type": "stream",
     "text": [
      "Even\n",
      "Odd\n",
      "Even\n",
      "Odd\n"
     ]
    }
   ],
   "source": [
    "integers = [2, 5, 8, 7]\n",
    "\n",
    "for my_num in integers:\n",
    "    if my_num % 2 == 0:\n",
    "        print(\"Even\")\n",
    "    else:\n",
    "        print(\"Odd\")"
   ]
  },
  {
   "cell_type": "markdown",
   "id": "0640d744-9cb9-4491-af22-236da497a857",
   "metadata": {
    "id": "bea983a3"
   },
   "source": [
    "---\n",
    "\n",
    "### Exercise 4:\n",
    "Write a Python program that checks if a given year is a leap year.\n",
    "\n",
    "```python\n",
    "# Exercise 4\n",
    "```"
   ]
  },
  {
   "cell_type": "code",
   "execution_count": 153,
   "id": "0614ea7e-12ad-4b99-a5f9-694e837c21de",
   "metadata": {},
   "outputs": [
    {
     "name": "stdin",
     "output_type": "stream",
     "text": [
      "Please input a year :  200\n"
     ]
    },
    {
     "name": "stdout",
     "output_type": "stream",
     "text": [
      "it's not a leap year\n"
     ]
    }
   ],
   "source": [
    "my_year = int(input(\"Please input a year : \"))\n",
    "\n",
    "if my_year % 4 == 0:\n",
    "    if my_year % 100 == 0:\n",
    "        if my_year % 400 == 0:\n",
    "            print(\"Leap year\")\n",
    "        else:\n",
    "            print(\"it's not a leap year\")\n",
    "    else:\n",
    "        print(\" it is a leap year\")\n",
    "else:\n",
    "    print(\"it is not a leap year\")"
   ]
  },
  {
   "cell_type": "markdown",
   "id": "81c28e9a-4058-4593-9cd1-601d7f230753",
   "metadata": {
    "id": "bea983a3"
   },
   "source": [
    "---\n",
    "\n",
    "### Exercise 5:\n",
    "Write a Python function that checks if a number is divisible by both 3 and 5.\n",
    "\n",
    "```python\n",
    "# Exercise 5\n",
    "```"
   ]
  },
  {
   "cell_type": "code",
   "execution_count": 17,
   "id": "ba70ba29-da55-4441-a2ad-ab4b3657f2a8",
   "metadata": {},
   "outputs": [
    {
     "name": "stdin",
     "output_type": "stream",
     "text": [
      "Please enter a number :  7\n"
     ]
    },
    {
     "name": "stdout",
     "output_type": "stream",
     "text": [
      "it is not divisible by both 3 and 5\n"
     ]
    }
   ],
   "source": [
    "number = int(input(\"Please enter a number : \"))\n",
    "\n",
    "if number % 3 == 0 and number % 5 == 0:\n",
    "    print(\"it is divisible by both 3 and 5\")\n",
    "else:\n",
    "    print(\"it is not divisible by both 3 and 5\")"
   ]
  },
  {
   "cell_type": "markdown",
   "id": "4cd85b9e-7e06-4ad1-8d9c-a1396a102986",
   "metadata": {
    "id": "bea983a3"
   },
   "source": [
    "---\n",
    "\n",
    "### Exercise 6:\n",
    "Write a Python program that prints \"Hot\" if the temperature is above 30, \"Warm\" if it is between 15 and 30, and \"Cold\" if it is below 15.\n",
    "\n",
    "```python\n",
    "# Exercise 6\n",
    "```"
   ]
  },
  {
   "cell_type": "code",
   "execution_count": 19,
   "id": "ff64f27f-3242-49e6-a362-64b1717b28d0",
   "metadata": {},
   "outputs": [
    {
     "name": "stdin",
     "output_type": "stream",
     "text": [
      " Please enter temperature:  23\n"
     ]
    },
    {
     "name": "stdout",
     "output_type": "stream",
     "text": [
      "Warm\n"
     ]
    }
   ],
   "source": [
    "temperature = float(input(\" Please enter temperature: \"))\n",
    "\n",
    "if temperature > 30:\n",
    "    print(\"Hot\")\n",
    "elif temperature >= 15:\n",
    "    print(\"Warm\")\n",
    "else:\n",
    "    print(\"Cold\")"
   ]
  },
  {
   "cell_type": "markdown",
   "id": "e8fd5e67-4523-4a60-b8ec-5e08039243e2",
   "metadata": {
    "id": "bea983a3"
   },
   "source": [
    "---\n",
    "\n",
    "### Exercise 7:\n",
    "Write a Python program that checks if a string contains the letter 'a'.\n",
    "\n",
    "```python\n",
    "# Exercise 7\n",
    "```"
   ]
  },
  {
   "cell_type": "code",
   "execution_count": 23,
   "id": "27ee01f5-2e9d-4d0e-be97-4492c96c5184",
   "metadata": {},
   "outputs": [
    {
     "name": "stdin",
     "output_type": "stream",
     "text": [
      "Please enter a string:  apple\n"
     ]
    },
    {
     "name": "stdout",
     "output_type": "stream",
     "text": [
      "Contains 'a'\n"
     ]
    }
   ],
   "source": [
    "word = input(\"Please enter a string: \")\n",
    "\n",
    "if 'a' in word:\n",
    "    print(\"Contains 'a'\")\n",
    "else:\n",
    "    print(\"It does not contain 'a'\")"
   ]
  },
  {
   "cell_type": "markdown",
   "id": "0f6f9945-e1ff-4ded-ab96-8fb950dbbb86",
   "metadata": {
    "id": "bea983a3"
   },
   "source": [
    "---\n",
    "\n",
    "### Exercise 8:\n",
    "Write a Python function that checks if two numbers are equal, or which one is larger.\n",
    "\n",
    "```python\n",
    "# Exercise 8\n",
    "```"
   ]
  },
  {
   "cell_type": "code",
   "execution_count": 25,
   "id": "47c88bb6-b4b6-450f-9712-0be3dfc0afeb",
   "metadata": {},
   "outputs": [],
   "source": [
    "def check_two_numbers(num1, num2):\n",
    "    if num1 == num2:\n",
    "        print(\"The numbers are equal\")\n",
    "    elif num1 > num2:\n",
    "        print(f\"{num1} is larger than {num2}\")\n",
    "    else:\n",
    "        print(f\"{num2} is larger than {num1}\")"
   ]
  },
  {
   "cell_type": "code",
   "execution_count": 27,
   "id": "0dd1b0a8-c3ae-461e-a13d-7ca5b74c9b04",
   "metadata": {},
   "outputs": [
    {
     "name": "stdout",
     "output_type": "stream",
     "text": [
      "The numbers are equal\n",
      "10 is larger than 5\n",
      "8 is larger than 3\n"
     ]
    }
   ],
   "source": [
    "check_two_numbers(5, 5)   \n",
    "check_two_numbers(10, 5) \n",
    "check_two_numbers(3, 8)  "
   ]
  },
  {
   "cell_type": "markdown",
   "id": "acfd970f-de8f-4c99-9700-fd9302b5368c",
   "metadata": {
    "id": "bea983a3"
   },
   "source": [
    "---\n",
    "\n",
    "### Exercise 9:\n",
    "Write a Python program that checks if a list is empty.\n",
    "\n",
    "```python\n",
    "# Exercise 9\n",
    "```"
   ]
  },
  {
   "cell_type": "code",
   "execution_count": null,
   "id": "87de8e19-84c1-47bf-9a75-490de7460289",
   "metadata": {},
   "outputs": [],
   "source": []
  },
  {
   "cell_type": "code",
   "execution_count": 29,
   "id": "eb3e35e5-f2a9-4e15-8ca8-01df0dfd6cfb",
   "metadata": {},
   "outputs": [
    {
     "name": "stdout",
     "output_type": "stream",
     "text": [
      "This list is not empty\n"
     ]
    }
   ],
   "source": [
    "my_list = [3, 4, 5]\n",
    "\n",
    "if not my_list:\n",
    "    print(\"This list is empty\")\n",
    "else:\n",
    "    print(\"This list is not empty\")"
   ]
  },
  {
   "cell_type": "code",
   "execution_count": 30,
   "id": "9b4c26a3-39e2-443c-b41e-47f80a9c4dba",
   "metadata": {},
   "outputs": [
    {
     "data": {
      "text/plain": [
       "[3, 4, 5]"
      ]
     },
     "execution_count": 30,
     "metadata": {},
     "output_type": "execute_result"
    }
   ],
   "source": [
    "my_list"
   ]
  },
  {
   "cell_type": "markdown",
   "id": "f47df380-a8d6-45c3-a494-277e9f0a71f0",
   "metadata": {
    "id": "bea983a3"
   },
   "source": [
    "---\n",
    "\n",
    "### Exercise 10:\n",
    "Write a Python function that takes two strings and checks if they are anagrams.\n",
    "\n",
    "```python\n",
    "# Exercise 10\n",
    "```"
   ]
  },
  {
   "cell_type": "code",
   "execution_count": 32,
   "id": "45226988-0def-4f62-bc85-dc3b32c9b386",
   "metadata": {},
   "outputs": [
    {
     "name": "stdin",
     "output_type": "stream",
     "text": [
      "Enter first word:  come\n",
      "Enter second word:  sweet\n"
     ]
    },
    {
     "name": "stdout",
     "output_type": "stream",
     "text": [
      "These are anagrams\n"
     ]
    }
   ],
   "source": [
    "first_word = input(\"Enter first word: \").replace(\" \", \"\").lower()\n",
    "second_word = input(\"Enter second word: \").replace(\" \", \"\").lower()\n",
    "\n",
    "if sorted(first_word) == sorted(first_word):\n",
    "    print(\"These are anagrams\")\n",
    "else:\n",
    "    print(\"These are not anagrams\")"
   ]
  },
  {
   "cell_type": "markdown",
   "id": "c07bfe24-2658-49c3-b739-5bbea959539e",
   "metadata": {
    "id": "bea983a3"
   },
   "source": [
    "---\n",
    "\n",
    "### Exercise 11:\n",
    "Write a Python program that checks if a number is prime.\n",
    "\n",
    "```python\n",
    "# Exercise 11\n",
    "```"
   ]
  },
  {
   "cell_type": "code",
   "execution_count": 34,
   "id": "1836ca42-7f04-4ca7-b819-3f16538a7155",
   "metadata": {},
   "outputs": [
    {
     "name": "stdin",
     "output_type": "stream",
     "text": [
      "Please enter a number:  6\n"
     ]
    },
    {
     "name": "stdout",
     "output_type": "stream",
     "text": [
      "This is not a prime number\n"
     ]
    }
   ],
   "source": [
    "num = int(input(\"Please enter a number: \"))\n",
    "\n",
    "if num <= 1:\n",
    "    print(\"This is not a prime\")\n",
    "else:\n",
    "    is_prime = True\n",
    "    for i in range(2, num):\n",
    "        if num % i == 0:\n",
    "            is_prime = False\n",
    "            break\n",
    "    \n",
    "    if is_prime:\n",
    "        print(\"This is a prime number \")\n",
    "    else:\n",
    "        print(\"This is not a prime number\")"
   ]
  },
  {
   "cell_type": "markdown",
   "id": "014012dc-d50a-4769-bdbb-f9406910dee8",
   "metadata": {
    "id": "bea983a3"
   },
   "source": [
    "---\n",
    "\n",
    "### Exercise 12:\n",
    "Write a Python program that checks if a list of numbers is sorted in ascending order.\n",
    "\n",
    "```python\n",
    "# Exercise 12\n",
    "```"
   ]
  },
  {
   "cell_type": "code",
   "execution_count": 35,
   "id": "7256f4c7-7ed7-46bd-b53c-4a2e5d742745",
   "metadata": {},
   "outputs": [
    {
     "name": "stdout",
     "output_type": "stream",
     "text": [
      "This list is sorted\n"
     ]
    }
   ],
   "source": [
    "numbers = [1, 2, 3, 4, 5]\n",
    "\n",
    "is_sorted = True\n",
    "for i in range(len(numbers) - 1):\n",
    "    if numbers[i] > numbers[i + 1]:\n",
    "        is_sorted = False\n",
    "        break\n",
    "\n",
    "if is_sorted:\n",
    "    print(\"This list is sorted\")\n",
    "else:\n",
    "    print(\"This list is not sorted\")"
   ]
  },
  {
   "cell_type": "markdown",
   "id": "d5a230dd-77f5-40fc-a6fc-a0f3116268e9",
   "metadata": {
    "id": "bea983a3"
   },
   "source": [
    "---\n",
    "\n",
    "### Exercise 13:\n",
    "Write a Python function that takes a character and checks if it is a digit.\n",
    "\n",
    "```python\n",
    "# Exercise 13\n",
    "```"
   ]
  },
  {
   "cell_type": "code",
   "execution_count": 37,
   "id": "46189f05-5327-466d-bc7b-3ca859b2c406",
   "metadata": {},
   "outputs": [
    {
     "name": "stdin",
     "output_type": "stream",
     "text": [
      "please enter a character:  d\n"
     ]
    },
    {
     "name": "stdout",
     "output_type": "stream",
     "text": [
      "It is not a digit\n"
     ]
    }
   ],
   "source": [
    "char = input(\"please enter a character: \")\n",
    "\n",
    "if char >= '0' and char <= '7':\n",
    "    print(\"It is a digit\")\n",
    "else:\n",
    "    print(\"It is not a digit\")"
   ]
  },
  {
   "cell_type": "markdown",
   "id": "2af3d6e1-94e8-4103-bb36-2d2d38361919",
   "metadata": {
    "id": "bea983a3"
   },
   "source": [
    "---\n",
    "\n",
    "### Exercise 14:\n",
    "Write a Python function that checks if a string contains only uppercase letters.\n",
    "\n",
    "```python\n",
    "# Exercise 14\n",
    "```"
   ]
  },
  {
   "cell_type": "code",
   "execution_count": 39,
   "id": "c94ebfd0-0b92-480e-8668-e081cc204833",
   "metadata": {},
   "outputs": [
    {
     "name": "stdin",
     "output_type": "stream",
     "text": [
      "please enter a string:  READ\n"
     ]
    },
    {
     "name": "stdout",
     "output_type": "stream",
     "text": [
      "It is all uppercase\n"
     ]
    }
   ],
   "source": [
    "text = input(\"please enter a string: \")\n",
    "\n",
    "is_upper = True\n",
    "for char in text:\n",
    "    if char < 'A' or char > 'Z':\n",
    "        is_upper = False\n",
    "        break\n",
    "\n",
    "if is_upper:\n",
    "    print(\"It is all uppercase\")\n",
    "else:\n",
    "    print(\"It is not all uppercase\")"
   ]
  },
  {
   "cell_type": "markdown",
   "id": "81e172c0-1a10-4ded-a844-36593dd3c5ce",
   "metadata": {
    "id": "bea983a3"
   },
   "source": [
    "---\n",
    "\n",
    "### Exercise 15:\n",
    "Write a Python program that checks if a number is a multiple of 10.\n",
    "\n",
    "```python\n",
    "# Exercise 15\n",
    "```"
   ]
  },
  {
   "cell_type": "code",
   "execution_count": 40,
   "id": "a98a4b1a-df52-4447-a826-b89e22ff1391",
   "metadata": {},
   "outputs": [
    {
     "name": "stdin",
     "output_type": "stream",
     "text": [
      "please enter a number:  5\n"
     ]
    },
    {
     "name": "stdout",
     "output_type": "stream",
     "text": [
      "It is not a multiple of 10\n"
     ]
    }
   ],
   "source": [
    "num = int(input(\"please enter a number: \"))\n",
    "\n",
    "if num % 10 == 0:\n",
    "    print(\"It is a multiple of 10\")\n",
    "else:\n",
    "    print(\"It is not a multiple of 10\")"
   ]
  },
  {
   "cell_type": "markdown",
   "id": "a5b9fc8b-15c4-47c4-ab0f-1f0adf9152d3",
   "metadata": {
    "id": "bea983a3"
   },
   "source": [
    "---\n",
    "\n",
    "### Exercise 16:\n",
    "Write a Python function that checks if a list contains any duplicates.\n",
    "\n",
    "```python\n",
    "# Exercise 16\n",
    "```"
   ]
  },
  {
   "cell_type": "code",
   "execution_count": 48,
   "id": "80141b2e-b726-44f9-a5f2-b46cf179f2ff",
   "metadata": {},
   "outputs": [
    {
     "name": "stdout",
     "output_type": "stream",
     "text": [
      "It does not have duplicates\n"
     ]
    }
   ],
   "source": [
    "num = [1, 2, 3, 3, 2, 2, 4]\n",
    "\n",
    "has_duplicates = False\n",
    "for m in range(len(num)):\n",
    "    for n in range(m + 1, len(num)):\n",
    "        if num[n] == num[m]:\n",
    "            has_dup = True\n",
    "            break\n",
    "\n",
    "if has_duplicates:\n",
    "    print(\"it has duplicates\")\n",
    "else:\n",
    "    print(\"It does not have duplicates\")"
   ]
  },
  {
   "cell_type": "markdown",
   "id": "36b45c0d-40b1-478f-8514-9c606fe2c9fb",
   "metadata": {
    "id": "bea983a3"
   },
   "source": [
    "---\n",
    "\n",
    "### Exercise 17:\n",
    "Write a Python program that prints \"Teenager\" if the age is between 13 and 19, otherwise it prints \"Not a teenager.\"\n",
    "\n",
    "```python\n",
    "# Exercise 17\n",
    "```"
   ]
  },
  {
   "cell_type": "code",
   "execution_count": 50,
   "id": "db7e43f7-24b6-40bd-9f44-306f49b147be",
   "metadata": {},
   "outputs": [
    {
     "name": "stdin",
     "output_type": "stream",
     "text": [
      "please enter an age:  50\n"
     ]
    },
    {
     "name": "stdout",
     "output_type": "stream",
     "text": [
      "This person is not  a teenager\n"
     ]
    }
   ],
   "source": [
    "age = int(input(\"please enter an age: \"))\n",
    "\n",
    "if age >= 13 and age <= 19:\n",
    "    print(\"Teenager\")\n",
    "else:\n",
    "    print(\"This person is not  a teenager\")"
   ]
  },
  {
   "cell_type": "markdown",
   "id": "50ebd472-0b10-4b4f-b67b-af5fc8a53e00",
   "metadata": {
    "id": "bea983a3"
   },
   "source": [
    "---\n",
    "\n",
    "### Exercise 18:\n",
    "Write a Python function that checks if a list contains an element greater than 100.\n",
    "\n",
    "```python\n",
    "# Exercise 18\n",
    "```"
   ]
  },
  {
   "cell_type": "code",
   "execution_count": 57,
   "id": "a01bbc3e-515f-44fe-9301-58e4c1fb2e84",
   "metadata": {},
   "outputs": [
    {
     "name": "stdout",
     "output_type": "stream",
     "text": [
      "it contains number greater than 100\n"
     ]
    }
   ],
   "source": [
    "positive_integers = [50, 75, 120, 90]\n",
    "\n",
    "found = False\n",
    "for num in positive_integers:\n",
    "    if num > 100:\n",
    "        found = True\n",
    "        break\n",
    "\n",
    "if found:\n",
    "    print(\"it contains number greater than 100\")\n",
    "else:\n",
    "    print(\"it does not has number greater than 100\")"
   ]
  },
  {
   "cell_type": "markdown",
   "id": "0604a787-069d-4d8d-bc5d-91bbb116772b",
   "metadata": {
    "id": "bea983a3"
   },
   "source": [
    "---\n",
    "\n",
    "### Exercise 19:\n",
    "Write a Python program that checks if a number is even or odd.\n",
    "\n",
    "```python\n",
    "# Exercise 19\n",
    "```"
   ]
  },
  {
   "cell_type": "code",
   "execution_count": 58,
   "id": "50cd1bf1-c688-42d6-b23a-76bc9d8b16d6",
   "metadata": {},
   "outputs": [
    {
     "name": "stdin",
     "output_type": "stream",
     "text": [
      "please enter a number:  23\n"
     ]
    },
    {
     "name": "stdout",
     "output_type": "stream",
     "text": [
      "Odd\n"
     ]
    }
   ],
   "source": [
    "num = int(input(\"please enter a number: \"))\n",
    "\n",
    "if num % 2 == 0:\n",
    "    print(\"Even\")\n",
    "else:\n",
    "    print(\"Odd\")"
   ]
  },
  {
   "cell_type": "markdown",
   "id": "4d434d0f-6ac0-4dfb-be45-393d4eab6547",
   "metadata": {
    "id": "bea983a3"
   },
   "source": [
    "---\n",
    "\n",
    "### Exercise 20:\n",
    "Write a Python function that checks if a string ends with a punctuation mark.\n",
    "\n",
    "```python\n",
    "# Exercise 20\n",
    "```"
   ]
  },
  {
   "cell_type": "code",
   "execution_count": 59,
   "id": "8dcd14bf-5d28-4c09-a941-77568fc799e6",
   "metadata": {},
   "outputs": [
    {
     "name": "stdin",
     "output_type": "stream",
     "text": [
      "please enter a string:  ;\n"
     ]
    },
    {
     "name": "stdout",
     "output_type": "stream",
     "text": [
      "It does not end with punctuation\n"
     ]
    }
   ],
   "source": [
    "strings_checks = input(\"please enter a string: \")\n",
    "punctuation = \".!?,;:\"\n",
    "\n",
    "if text and text[-1] in punctuation:\n",
    "    print(\"it ends with punctuation\")\n",
    "else:\n",
    "    print(\"It does not end with punctuation\")"
   ]
  },
  {
   "cell_type": "markdown",
   "id": "8f816e43-a7dc-4e93-9d2f-131ae21de572",
   "metadata": {
    "id": "bea983a3"
   },
   "source": [
    "---\n",
    "\n",
    "### Exercise 21:\n",
    "Write a Python program that prints \"Yes\" if the number is between 1 and 100, otherwise it prints \"No.\"\n",
    "\n",
    "```python\n",
    "# Exercise 21\n",
    "```"
   ]
  },
  {
   "cell_type": "code",
   "execution_count": 61,
   "id": "2c68ba42-8666-48d6-a8cf-b686dd4316f2",
   "metadata": {},
   "outputs": [
    {
     "name": "stdin",
     "output_type": "stream",
     "text": [
      "please enter a number:  1000\n"
     ]
    },
    {
     "name": "stdout",
     "output_type": "stream",
     "text": [
      "No\n"
     ]
    }
   ],
   "source": [
    "num = int(input(\"please enter a number: \"))\n",
    "\n",
    "if num >= 1 and num <= 100:\n",
    "    print(\"Yes\")\n",
    "else:\n",
    "    print(\"No\")"
   ]
  },
  {
   "cell_type": "markdown",
   "id": "b209b4a3-70a5-4145-be98-19db68a7be4b",
   "metadata": {
    "id": "bea983a3"
   },
   "source": [
    "---\n",
    "\n",
    "### Exercise 22:\n",
    "Write a Python program that checks if two strings have the same length.\n",
    "\n",
    "```python\n",
    "# Exercise 22\n",
    "```"
   ]
  },
  {
   "cell_type": "code",
   "execution_count": 62,
   "id": "b2c6e2ca-a1eb-4ef3-b76c-91b4dd377130",
   "metadata": {},
   "outputs": [
    {
     "name": "stdin",
     "output_type": "stream",
     "text": [
      "please enter first string:  words\n",
      "please enter second string:  words\n"
     ]
    },
    {
     "name": "stdout",
     "output_type": "stream",
     "text": [
      "It has same length\n"
     ]
    }
   ],
   "source": [
    "first_strings = input(\"please enter first string: \")\n",
    "second_strings = input(\"please enter second string: \")\n",
    "\n",
    "if len(first_strings) == len(second_strings):\n",
    "    print(\"It has same length\")\n",
    "else:\n",
    "    print(\"It does not have the same length\")"
   ]
  },
  {
   "cell_type": "markdown",
   "id": "3b45f904-ed60-4714-86cd-5a7420595197",
   "metadata": {
    "id": "bea983a3"
   },
   "source": [
    "---\n",
    "\n",
    "### Exercise 23:\n",
    "Write a Python function that checks if a number is greater than its reverse.\n",
    "\n",
    "```python\n",
    "# Exercise 23\n",
    "```"
   ]
  },
  {
   "cell_type": "code",
   "execution_count": 63,
   "id": "775f5b22-d40e-44c4-9d7d-00cd5894f127",
   "metadata": {},
   "outputs": [
    {
     "name": "stdin",
     "output_type": "stream",
     "text": [
      "please enter a number:  23\n"
     ]
    },
    {
     "name": "stdout",
     "output_type": "stream",
     "text": [
      "The number is not greater than its reverse\n"
     ]
    }
   ],
   "source": [
    "num = int(input(\"please enter a number: \"))\n",
    "reverse_num = int(str(num)[::-1])\n",
    "\n",
    "if num > reverse_num:\n",
    "    print(\"The number is greater than its reverse\")\n",
    "else:\n",
    "    print(\"The number is not greater than its reverse\")"
   ]
  },
  {
   "cell_type": "markdown",
   "id": "ca5692b3-4468-4ba1-86fc-7534e5368f29",
   "metadata": {
    "id": "bea983a3"
   },
   "source": [
    "---\n",
    "\n",
    "### Exercise 24:\n",
    "Write a Python program that checks if a password contains both letters and numbers.\n",
    "\n",
    "```python\n",
    "# Exercise 24\n",
    "```"
   ]
  },
  {
   "cell_type": "code",
   "execution_count": 64,
   "id": "e115324c-7a69-41f9-ad51-f84a8649d014",
   "metadata": {},
   "outputs": [
    {
     "name": "stdin",
     "output_type": "stream",
     "text": [
      "please input a  password:  wr23\n"
     ]
    },
    {
     "name": "stdout",
     "output_type": "stream",
     "text": [
      "Valid password\n"
     ]
    }
   ],
   "source": [
    "password = input(\"please input a  password: \")\n",
    "\n",
    "has_letter = False\n",
    "has_digit = False\n",
    "\n",
    "for char in password:\n",
    "    if char >= 'a' and char <= 'z' or char >= 'A' and char <= 'Z':\n",
    "        has_letter = True\n",
    "    elif char >= '0' and char <= '9':\n",
    "        has_digit = True\n",
    "\n",
    "if has_letter and has_digit:\n",
    "    print(\"Valid password\")\n",
    "else:\n",
    "    print(\"Invalid password\")"
   ]
  },
  {
   "cell_type": "markdown",
   "id": "26289655-75df-4147-8a46-e6713746bd93",
   "metadata": {
    "id": "bea983a3"
   },
   "source": [
    "---\n",
    "\n",
    "### Exercise 25:\n",
    "Write a Python program that checks if a number is between two given numbers.\n",
    "\n",
    "```python\n",
    "# Exercise 25\n",
    "```"
   ]
  },
  {
   "cell_type": "code",
   "execution_count": 65,
   "id": "61cc6131-1d1f-42ba-a8e0-509852bfe0ac",
   "metadata": {},
   "outputs": [
    {
     "name": "stdin",
     "output_type": "stream",
     "text": [
      "Kindly enter the number:  23\n",
      "Kindly enter lower bound:  44\n",
      "kindly enter upper bound:  54\n"
     ]
    },
    {
     "name": "stdout",
     "output_type": "stream",
     "text": [
      "No\n"
     ]
    }
   ],
   "source": [
    "num = float(input(\"Kindly enter the number: \"))\n",
    "low = float(input(\"Kindly enter lower bound: \"))\n",
    "high = float(input(\"kindly enter upper bound: \"))\n",
    "\n",
    "if num >= low and num <= high:\n",
    "    print(\"Yes\")\n",
    "else:\n",
    "    print(\"No\")"
   ]
  },
  {
   "cell_type": "markdown",
   "id": "5f57c82f-4dc7-4739-a0a5-ad4ee95e59c9",
   "metadata": {
    "id": "bea983a3"
   },
   "source": [
    "---\n",
    "\n",
    "### Exercise 26:\n",
    "Write a Python function that checks if all characters in a string are unique.\n",
    "\n",
    "```python\n",
    "# Exercise 26\n",
    "```"
   ]
  },
  {
   "cell_type": "code",
   "execution_count": null,
   "id": "b4e84710-fe2b-43ae-affe-54e49085d6f6",
   "metadata": {},
   "outputs": [],
   "source": []
  },
  {
   "cell_type": "markdown",
   "id": "c641321e-c15e-45e9-8c55-0b75028171e9",
   "metadata": {
    "id": "bea983a3"
   },
   "source": [
    "---\n",
    "\n",
    "### Exercise 27:\n",
    "Write a Python program that checks if a number is a perfect square.\n",
    "\n",
    "```python\n",
    "# Exercise 27\n",
    "```"
   ]
  },
  {
   "cell_type": "code",
   "execution_count": 71,
   "id": "4d6239da-e81e-4ded-b3ca-6f315c74b6b4",
   "metadata": {},
   "outputs": [
    {
     "name": "stdin",
     "output_type": "stream",
     "text": [
      "please enter a number:  4\n"
     ]
    },
    {
     "name": "stdout",
     "output_type": "stream",
     "text": [
      "Its a perfect square\n"
     ]
    }
   ],
   "source": [
    "num = int(input(\"please enter a number: \"))\n",
    "\n",
    "is_perfect_square = False\n",
    "for n in range(1, num + 1):\n",
    "    if n * n == num:\n",
    "        is_perfect_square = True\n",
    "        break\n",
    "\n",
    "if is_perfect_square:\n",
    "    print(\"Its a perfect square\")\n",
    "else:\n",
    "    print(\"It is not a perfect square\")"
   ]
  },
  {
   "cell_type": "markdown",
   "id": "febb4832-c7e5-47b3-aad3-4519796e8fa1",
   "metadata": {
    "id": "bea983a3"
   },
   "source": [
    "---\n",
    "\n",
    "### Exercise 28:\n",
    "Write a Python function that checks if a word is a palindrome.\n",
    "\n",
    "```python\n",
    "# Exercise 28\n",
    "```"
   ]
  },
  {
   "cell_type": "code",
   "execution_count": 73,
   "id": "b8fcbbfa-38f4-4fd5-8974-ae3ed52a59fe",
   "metadata": {},
   "outputs": [
    {
     "name": "stdin",
     "output_type": "stream",
     "text": [
      "Enter a word:  racecar\n"
     ]
    },
    {
     "name": "stdout",
     "output_type": "stream",
     "text": [
      "Its Palindrome\n"
     ]
    }
   ],
   "source": [
    "word = input(\"Enter a word: \")\n",
    "\n",
    "if word == word[::-1]:\n",
    "    print(\"Its a Palindrome\")\n",
    "else:\n",
    "    print(\"Its not a palindrome\")"
   ]
  },
  {
   "cell_type": "markdown",
   "id": "2aa5ecd6-d5ce-45e5-ae7d-b838051cf029",
   "metadata": {
    "id": "bea983a3"
   },
   "source": [
    "---\n",
    "\n",
    "### Exercise 29:\n",
    "Write a Python program that prints \"Fizz\" if a number is divisible by 3, \"Buzz\" if it is divisible by 5, and \"FizzBuzz\" if divisible by both.\n",
    "\n",
    "```python\n",
    "# Exercise 29\n",
    "```"
   ]
  },
  {
   "cell_type": "code",
   "execution_count": 78,
   "id": "159e9fb2-ee16-4c7f-b502-fea978f0a3c9",
   "metadata": {},
   "outputs": [
    {
     "name": "stdin",
     "output_type": "stream",
     "text": [
      "Please enter a number:  30\n"
     ]
    },
    {
     "name": "stdout",
     "output_type": "stream",
     "text": [
      "FizzBuzz\n"
     ]
    }
   ],
   "source": [
    "num = int(input(\"Please enter a number: \"))\n",
    "\n",
    "if num % 3 == 0 and num % 5 == 0:\n",
    "    print(\"FizzBuzz\")\n",
    "elif num % 3 == 0:\n",
    "    print(\"Fizz\")\n",
    "elif num % 5 == 0:\n",
    "    print(\"Buzz\")\n",
    "else:\n",
    "    print(num)"
   ]
  },
  {
   "cell_type": "markdown",
   "id": "e29f8ad2-b4ab-4d58-b8d2-27ee68a981b5",
   "metadata": {
    "id": "bea983a3"
   },
   "source": [
    "---\n",
    "\n",
    "### Exercise 30:\n",
    "Write a Python program that checks if the sum of the digits of a number is even.\n",
    "\n",
    "```python\n",
    "# Exercise 30\n",
    "```"
   ]
  },
  {
   "cell_type": "code",
   "execution_count": 86,
   "id": "ec949fbb-ce71-48da-b5d2-a5bbec8b45f1",
   "metadata": {},
   "outputs": [
    {
     "name": "stdin",
     "output_type": "stream",
     "text": [
      "Please enter a number:  23\n"
     ]
    },
    {
     "name": "stdout",
     "output_type": "stream",
     "text": [
      "Odd\n",
      "Even\n",
      "Odd\n"
     ]
    }
   ],
   "source": [
    "num = int(input(\"Please enter a number: \"))\n",
    "total = 0\n",
    "while num > 0:\n",
    "    value = num % 6\n",
    "    total = total + value \n",
    "    num = num // 4\n",
    "    if total  % 2 == 0:\n",
    "        print (\"Even\")\n",
    "    else:\n",
    "        print(\"Odd\")"
   ]
  },
  {
   "cell_type": "markdown",
   "id": "9d85002b-f661-43cf-8614-fbf617b46d3a",
   "metadata": {
    "id": "bea983a3"
   },
   "source": [
    "---\n",
    "\n",
    "### Exercise 31:\n",
    "Write a Python program that checks if a string is a valid email address.\n",
    "\n",
    "```python\n",
    "# Exercise 31\n",
    "```"
   ]
  },
  {
   "cell_type": "code",
   "execution_count": 87,
   "id": "87c72355-e573-4eb2-9f0f-436e4fa410ff",
   "metadata": {},
   "outputs": [
    {
     "name": "stdin",
     "output_type": "stream",
     "text": [
      "please enter an email address:  ag.com\n"
     ]
    },
    {
     "name": "stdout",
     "output_type": "stream",
     "text": [
      "Invalid email format\n"
     ]
    }
   ],
   "source": [
    "email = input(\"please enter an email address: \")\n",
    "\n",
    "if '@' in email and '.' in email:\n",
    "    print(\"Valid email format\")\n",
    "else:\n",
    "    print(\"Invalid email format\")"
   ]
  },
  {
   "cell_type": "markdown",
   "id": "790db8c7-970e-478b-b180-c453464fa4e6",
   "metadata": {
    "id": "bea983a3"
   },
   "source": [
    "---\n",
    "\n",
    "### Exercise 32:\n",
    "Write a Python function that checks if a number is within 10 of 100 or 200.\n",
    "\n",
    "```python\n",
    "# Exercise 32\n",
    "```"
   ]
  },
  {
   "cell_type": "code",
   "execution_count": 89,
   "id": "222fdb96-189d-4fef-9878-7b3f5a9efb9e",
   "metadata": {},
   "outputs": [
    {
     "name": "stdin",
     "output_type": "stream",
     "text": [
      "please enter a number:  233\n"
     ]
    }
   ],
   "source": [
    "def number_within_10_of_100_or_200(num):\n",
    "    \n",
    "    if 90 <= num <= 110:\n",
    "        return \"You're close to 100!\"\n",
    "    \n",
    "    \n",
    "    elif 190 <= num <= 210:\n",
    "        return \"You're close to 200!\"\n",
    "    \n",
    "    \n",
    "    else:\n",
    "        return \"Not quite near 100 or 200.\"\n",
    "\n",
    "\n",
    "number = int(input(\"please enter a number: \"))\n",
    "result = number_within_10_of_100_or_200(number)"
   ]
  },
  {
   "cell_type": "code",
   "execution_count": 90,
   "id": "449c73c0-e8b1-4394-be2e-b4844cd16031",
   "metadata": {},
   "outputs": [
    {
     "data": {
      "text/plain": [
       "'Not quite near 100 or 200.'"
      ]
     },
     "execution_count": 90,
     "metadata": {},
     "output_type": "execute_result"
    }
   ],
   "source": [
    "result"
   ]
  },
  {
   "cell_type": "markdown",
   "id": "b430962c-c1c9-4d34-ad0d-f560ddd01f0c",
   "metadata": {
    "id": "bea983a3"
   },
   "source": [
    "---\n",
    "\n",
    "### Exercise 33:\n",
    "Write a Python program that checks if a given string is a valid URL.\n",
    "\n",
    "```python\n",
    "# Exercise 33\n",
    "```"
   ]
  },
  {
   "cell_type": "code",
   "execution_count": 95,
   "id": "7009b3e8-5a44-4654-bd24-942ed91a015d",
   "metadata": {},
   "outputs": [
    {
     "name": "stdin",
     "output_type": "stream",
     "text": [
      "Enter a URL:  wrl. come\n"
     ]
    },
    {
     "name": "stdout",
     "output_type": "stream",
     "text": [
      "This is not a valid URL.\n"
     ]
    }
   ],
   "source": [
    "import re\n",
    "\n",
    "def check_valid_url(url):\n",
    "    regex = re.compile(\n",
    "        r'^(?:http|ftp)s?://'  \n",
    "        r'(?:(?:[A-Z0-9](?:[A-Z0-9-]{0,61}[A-Z0-9])?\\.)+(?:[A-Z]{2,6}\\.?|[A-Z0-9-]{2,}\\.?)|' \n",
    "        r'localhost|'  \n",
    "        r'\\d{1,3}\\.\\d{1,3}\\.\\d{1,3}\\.\\d{1,3}|'  \n",
    "        r'\\[?[A-F0-9]*:[A-F0-9:]+\\]?)'  \n",
    "        r'(?::\\d+)?'  \n",
    "        r'(?:/?|[/?]\\S+)$', re.IGNORECASE)  # path\n",
    "\n",
    "    return re.match(regex, url) is not None\n",
    "\n",
    "url = input(\"Enter a URL: \")\n",
    "if check_valid_url(url):\n",
    "    print(\"This is a valid URL!\")\n",
    "else:\n",
    "    print(\"This is not a valid URL.\")"
   ]
  },
  {
   "cell_type": "markdown",
   "id": "d17bfbb9-79ce-481e-87fe-3608dbe61588",
   "metadata": {
    "id": "bea983a3"
   },
   "source": [
    "---\n",
    "\n",
    "### Exercise 34:\n",
    "Write a Python program that checks if a list contains all even numbers.\n",
    "\n",
    "```python\n",
    "# Exercise 34\n",
    "```"
   ]
  },
  {
   "cell_type": "code",
   "execution_count": 99,
   "id": "9c89ad47-301c-4dd7-a315-e93fa75eaa3c",
   "metadata": {},
   "outputs": [
    {
     "name": "stdin",
     "output_type": "stream",
     "text": [
      "Enter a list of numbers separated by spaces:  4\n"
     ]
    },
    {
     "name": "stdout",
     "output_type": "stream",
     "text": [
      "The numbers are even!\n"
     ]
    }
   ],
   "source": [
    "def even_numbers(numbers):\n",
    "    for postive_integers in numbers:\n",
    "        if postive_integers % 2 != 0:  \n",
    "            return False\n",
    "    return True  \n",
    "\n",
    "user = input(\"please enter a list of numbers with spaces between them: \")\n",
    "\n",
    "my_list = [int(postive_integers) for postive_integers in user.split()]\n",
    "\n",
    "if even_numbers(my_list):\n",
    "    print(\"The numbers are even!\")\n",
    "else:\n",
    "    print(\"some are odd numbers in the list.\")"
   ]
  },
  {
   "cell_type": "markdown",
   "id": "d4c7dbfd-9502-43dd-8f83-da171f5f8c4b",
   "metadata": {
    "id": "bea983a3"
   },
   "source": [
    "---\n",
    "\n",
    "### Exercise 35:\n",
    "Write a Python program that checks if a word is longer than a given length.\n",
    "\n",
    "```python\n",
    "# Exercise 35\n",
    "```"
   ]
  },
  {
   "cell_type": "code",
   "execution_count": 100,
   "id": "c11afd83-e60e-4ae2-87b4-2ad298b4742a",
   "metadata": {},
   "outputs": [
    {
     "name": "stdout",
     "output_type": "stream",
     "text": [
      "['Hello', 'senegal', 'doing', 'great']\n"
     ]
    }
   ],
   "source": [
    "sentence = \"Hello AIMS senegal is doing great\"\n",
    "length = 4\n",
    "print([word for word in sentence.split() if len(word) > length])"
   ]
  },
  {
   "cell_type": "markdown",
   "id": "0f2b4223-0b81-4f3c-ba4d-c3d2ef72b7d2",
   "metadata": {
    "id": "bea983a3"
   },
   "source": [
    "---\n",
    "\n",
    "### Exercise 36:\n",
    "Write a Python program that checks if a list contains only positive numbers.\n",
    "\n",
    "```python\n",
    "# Exercise 36\n",
    "```"
   ]
  },
  {
   "cell_type": "code",
   "execution_count": 102,
   "id": "2f490107-d3b4-4154-aae1-f382306d707e",
   "metadata": {},
   "outputs": [
    {
     "name": "stdout",
     "output_type": "stream",
     "text": [
      "5\n",
      "50\n"
     ]
    }
   ],
   "source": [
    "n = [-10, 5, 50, -30, 0, -2]\n",
    "for value in n:\n",
    "    if value > 0:\n",
    "        print(value)"
   ]
  },
  {
   "cell_type": "markdown",
   "id": "82ad6819-7b58-410f-97c0-05f70f265337",
   "metadata": {
    "id": "bea983a3"
   },
   "source": [
    "---\n",
    "\n",
    "### Exercise 37:\n",
    "Write a Python function that checks if a year is a century year (i.e., divisible by 100).\n",
    "\n",
    "```python\n",
    "# Exercise 37\n",
    "```"
   ]
  },
  {
   "cell_type": "code",
   "execution_count": 108,
   "id": "4759e812-ac10-4c1b-827f-fad1b5e9764b",
   "metadata": {},
   "outputs": [
    {
     "name": "stdout",
     "output_type": "stream",
     "text": [
      "true\n"
     ]
    }
   ],
   "source": [
    "def checkYear(n):\n",
    "    if n % 4 == 0:\n",
    "        if n % 100 == 0:\n",
    "            return n % 400 == 0\n",
    "        return True\n",
    "    return False\n",
    "\n",
    "if __name__ == \"__main__\":\n",
    "    year  = 2000\n",
    "    if checkYear (year):\n",
    "        print(\"true\")\n",
    "    else:\n",
    "        print(\"false\")"
   ]
  },
  {
   "cell_type": "markdown",
   "id": "da3ae956-06c0-46fd-8e76-334fbf1dee3c",
   "metadata": {
    "id": "bea983a3"
   },
   "source": [
    "---\n",
    "\n",
    "### Exercise 38:\n",
    "Write a Python program that checks if the sum of a list of numbers is greater than 100.\n",
    "\n",
    "```python\n",
    "# Exercise 38\n",
    "```"
   ]
  },
  {
   "cell_type": "code",
   "execution_count": 109,
   "id": "c91de3bf-ea81-4264-8c71-44d3ba8df565",
   "metadata": {},
   "outputs": [
    {
     "name": "stdin",
     "output_type": "stream",
     "text": [
      "Input a list of numbers:  200\n"
     ]
    },
    {
     "name": "stdout",
     "output_type": "stream",
     "text": [
      "sum of list greater than 100!\n"
     ]
    }
   ],
   "source": [
    "def sum_of_list_than_100(numbers):\n",
    "    total = sum(numbers)\n",
    "    return total > 100  \n",
    "\n",
    "user_value = input(\"Input a list of numbers: \")\n",
    "\n",
    "\n",
    "number_list = [int(num1) for num1 in user_value.split()]\n",
    "\n",
    "\n",
    "if sum_of_list_than_100(number_list):\n",
    "    print(\"sum of list greater than 100!\")\n",
    "else:\n",
    "    print(\"sum of list not morthan 100.\")"
   ]
  },
  {
   "cell_type": "code",
   "execution_count": null,
   "id": "263a1f48-235e-40a8-a689-e66d4f9d7a5c",
   "metadata": {},
   "outputs": [],
   "source": []
  },
  {
   "cell_type": "markdown",
   "id": "801f5ed9-7c56-4e26-8bf3-275ddef03e09",
   "metadata": {
    "id": "bea983a3"
   },
   "source": [
    "---\n",
    "\n",
    "### Exercise 39:\n",
    "Write a Python function that checks if a given word is a substring of another string.\n",
    "\n",
    "```python\n",
    "# Exercise 39\n",
    "```"
   ]
  },
  {
   "cell_type": "code",
   "execution_count": 112,
   "id": "4677b623-2abe-4665-91e5-c701c5a84a57",
   "metadata": {},
   "outputs": [
    {
     "name": "stdout",
     "output_type": "stream",
     "text": [
      "-1\n"
     ]
    }
   ],
   "source": [
    "def Substring(mango, orange):\n",
    "    p = len(mango)\n",
    "    q = len(orange)\n",
    "\n",
    "    for x in range(p - q + 1):\n",
    "\n",
    "        j = 0\n",
    "        while j < q and mango[x + j] == orange[j]:\n",
    "            j += 1\n",
    "        \n",
    "        if j == q:\n",
    "            return i\n",
    "\n",
    "    return -1\n",
    "\n",
    "if __name__ == \"__main__\":\n",
    "    mango = \"man like fruits\"\n",
    "    orange = \"human like orange\"\n",
    "    print(Substring(mango, orange))"
   ]
  },
  {
   "cell_type": "markdown",
   "id": "f153b033-49aa-4a98-a2d1-a4b42e9a0981",
   "metadata": {
    "id": "bea983a3"
   },
   "source": [
    "---\n",
    "\n",
    "### Exercise 40:\n",
    "Write a Python program that checks if a number is a power of 2.\n",
    "\n",
    "```python\n",
    "# Exercise 40\n",
    "```"
   ]
  },
  {
   "cell_type": "code",
   "execution_count": 113,
   "id": "1482da83-4cca-4da6-b124-c430e9db64b3",
   "metadata": {},
   "outputs": [
    {
     "name": "stdout",
     "output_type": "stream",
     "text": [
      "f{number} is a power of two.\n"
     ]
    }
   ],
   "source": [
    "def power_two(x):\n",
    "    if x <= 0:\n",
    "        return false\n",
    "    return(x &(x -1)) == 0\n",
    "\n",
    "number = 4\n",
    "if power_two(number):\n",
    "    print(\"f{number} is a power of two.\")\n",
    "else:\n",
    "    print(\"f{number} is a not a power of two.\")"
   ]
  },
  {
   "cell_type": "markdown",
   "id": "c6f68cdb-b1d9-402f-9c85-c364d8b6fd4e",
   "metadata": {
    "id": "bea983a3"
   },
   "source": [
    "---\n",
    "\n",
    "### Exercise 41:\n",
    "Write a Python function that checks if a string contains no spaces.\n",
    "\n",
    "```python\n",
    "# Exercise 41\n",
    "```"
   ]
  },
  {
   "cell_type": "code",
   "execution_count": 114,
   "id": "d9362a3b-3abd-467e-8189-beac42b42458",
   "metadata": {},
   "outputs": [
    {
     "name": "stdout",
     "output_type": "stream",
     "text": [
      "True\n"
     ]
    }
   ],
   "source": [
    "word = \"hello AIMS Senegal\"\n",
    "result = any(c.isspace() for c in word)\n",
    "print(result)"
   ]
  },
  {
   "cell_type": "markdown",
   "id": "f06e35b2-bd2c-4884-8016-2302a5dbdf28",
   "metadata": {
    "id": "bea983a3"
   },
   "source": [
    "---\n",
    "\n",
    "### Exercise 42:\n",
    "Write a Python program that prints \"Yes\" if a number is divisible by both 2 and 3, otherwise it prints \"No.\"\n",
    "\n",
    "```python\n",
    "# Exercise 42\n",
    "```"
   ]
  },
  {
   "cell_type": "code",
   "execution_count": 118,
   "id": "1102a9b6-e94e-4c8a-9d07-3d6a45b93af9",
   "metadata": {},
   "outputs": [
    {
     "name": "stdin",
     "output_type": "stream",
     "text": [
      "Please enter a number :  4\n"
     ]
    },
    {
     "name": "stdout",
     "output_type": "stream",
     "text": [
      "No\n"
     ]
    }
   ],
   "source": [
    "number = int(input(\"Please enter a number : \"))\n",
    "\n",
    "if number % 2 == 0 and number % 3 == 0:\n",
    "    print(\"Yes\")\n",
    "else:\n",
    "    print(\"No\")"
   ]
  },
  {
   "cell_type": "markdown",
   "id": "68512408-13c6-4e15-b230-3189083837e8",
   "metadata": {
    "id": "bea983a3"
   },
   "source": [
    "---\n",
    "\n",
    "### Exercise 43:\n",
    "Write a Python program that checks if a number is a palindrome.\n",
    "\n",
    "```python\n",
    "# Exercise 43\n",
    "```"
   ]
  },
  {
   "cell_type": "code",
   "execution_count": 120,
   "id": "1e935eb7-8c20-41e6-97a0-23bdd4cf62bc",
   "metadata": {},
   "outputs": [
    {
     "name": "stdin",
     "output_type": "stream",
     "text": [
      "Enter a number:  7\n"
     ]
    },
    {
     "name": "stdout",
     "output_type": "stream",
     "text": [
      "Its a Palindrome\n"
     ]
    }
   ],
   "source": [
    "number = input(\"Enter a number: \")\n",
    "\n",
    "if number == number[::-1]:\n",
    "    print(\"Its a Palindrome\")\n",
    "else:\n",
    "    print(\"Its not a palindrome\")"
   ]
  },
  {
   "cell_type": "markdown",
   "id": "9b50378c-105a-44e8-8640-c0a28e27b837",
   "metadata": {
    "id": "bea983a3"
   },
   "source": [
    "---\n",
    "\n",
    "### Exercise 44:\n",
    "Write a Python function that checks if a string is made of only lowercase letters.\n",
    "\n",
    "```python\n",
    "# Exercise 44\n",
    "```"
   ]
  },
  {
   "cell_type": "code",
   "execution_count": 121,
   "id": "54582fca-1cb0-44ab-b17e-a70363b3c6ea",
   "metadata": {},
   "outputs": [],
   "source": [
    "sentence = \"Hello AIMS Senegal\" \n",
    "result = any(c.islower() for c in sentence )"
   ]
  },
  {
   "cell_type": "code",
   "execution_count": 122,
   "id": "58086207-bb63-4cea-956a-6b8f49149180",
   "metadata": {},
   "outputs": [
    {
     "data": {
      "text/plain": [
       "True"
      ]
     },
     "execution_count": 122,
     "metadata": {},
     "output_type": "execute_result"
    }
   ],
   "source": [
    "result "
   ]
  },
  {
   "cell_type": "markdown",
   "id": "1fe97e6e-d18f-4e0b-bac6-5d98ae431db5",
   "metadata": {
    "id": "bea983a3"
   },
   "source": [
    "---\n",
    "\n",
    "### Exercise 45:\n",
    "Write a Python program that checks if a string starts with a specific prefix.\n",
    "\n",
    "```python\n",
    "# Exercise 45\n",
    "```"
   ]
  },
  {
   "cell_type": "code",
   "execution_count": 123,
   "id": "7c58230e-caf5-4f3c-bc2c-e0e6c3928eec",
   "metadata": {},
   "outputs": [],
   "source": [
    "sentence = \"AIMS Senegal\""
   ]
  },
  {
   "cell_type": "code",
   "execution_count": 125,
   "id": "780d5e9b-3e06-4405-b379-d6b892a5eb62",
   "metadata": {},
   "outputs": [],
   "source": [
    "result = sentence.startswith(\"Senegal\")"
   ]
  },
  {
   "cell_type": "code",
   "execution_count": 126,
   "id": "5d2942c6-0341-4bdc-89f1-feada662d1dd",
   "metadata": {},
   "outputs": [
    {
     "data": {
      "text/plain": [
       "False"
      ]
     },
     "execution_count": 126,
     "metadata": {},
     "output_type": "execute_result"
    }
   ],
   "source": [
    "result "
   ]
  },
  {
   "cell_type": "markdown",
   "id": "753ee69e-21d4-4dd2-a918-3e0e08400e43",
   "metadata": {
    "id": "bea983a3"
   },
   "source": [
    "---\n",
    "\n",
    "### Exercise 46:\n",
    "Write a Python function that checks if a number is divisible by any number in a given list.\n",
    "\n",
    "```python\n",
    "# Exercise 46\n",
    "```"
   ]
  },
  {
   "cell_type": "code",
   "execution_count": 130,
   "id": "379c845c-0ce4-4201-8e7d-858edd7ce165",
   "metadata": {},
   "outputs": [
    {
     "name": "stdout",
     "output_type": "stream",
     "text": [
      "Yes\n"
     ]
    }
   ],
   "source": [
    "def divisible_checker(n, l = []):\n",
    "    for i in range(0, len(l)):\n",
    "        if l[i]% n != 0:\n",
    "            return 0\n",
    "        return 1\n",
    "l = [16, 13, 6, 20]\n",
    "n = 4\n",
    "if divisible_checker(n, l) ==1:\n",
    "    print(\"Yes\")\n",
    "else:\n",
    "    print(\"No\")\n",
    "    "
   ]
  },
  {
   "cell_type": "markdown",
   "id": "83b358e7-2fee-49a9-bda8-5f54d23b2de4",
   "metadata": {
    "id": "bea983a3"
   },
   "source": [
    "---\n",
    "\n",
    "### Exercise 47:\n",
    "Write a Python program that prints \"Yes\" if a string has more than one occurrence of the same letter.\n",
    "\n",
    "```python\n",
    "# Exercise 47\n",
    "```"
   ]
  },
  {
   "cell_type": "code",
   "execution_count": 133,
   "id": "b4642228-e8cd-451e-9125-fb802eea62c7",
   "metadata": {},
   "outputs": [
    {
     "name": "stdout",
     "output_type": "stream",
     "text": [
      "Yes\n"
     ]
    }
   ],
   "source": [
    "def strings_checker(m):\n",
    "    n = len(m)\n",
    "    for i in range (1, n):\n",
    "        if m[i] != s[0]:\n",
    "            return False\n",
    "        return True\n",
    "\n",
    "if __name__ == \"__main__\":\n",
    "    m = \"ccc\"\n",
    "    if strings_checker(m):\n",
    "        print(\"Yes\")\n",
    "    else:\n",
    "        print(\"No\")"
   ]
  },
  {
   "cell_type": "markdown",
   "id": "7be22b1b-8854-41a9-a3d7-e49189316c1d",
   "metadata": {
    "id": "bea983a3"
   },
   "source": [
    "---\n",
    "\n",
    "### Exercise 48:\n",
    "Write a Python function that checks if a number is prime by dividing it by numbers up to its square root.\n",
    "\n",
    "```python\n",
    "# Exercise 48\n",
    "```"
   ]
  },
  {
   "cell_type": "code",
   "execution_count": 136,
   "id": "0de5b250-1ea8-4bac-a1a1-e9c8a5206f20",
   "metadata": {},
   "outputs": [
    {
     "name": "stdin",
     "output_type": "stream",
     "text": [
      "please enter number to check prime numbers only:  11\n"
     ]
    },
    {
     "name": "stdout",
     "output_type": "stream",
     "text": [
      "11 its a prime number!\n"
     ]
    }
   ],
   "source": [
    "import math\n",
    "\n",
    "def prime_checker(positive_intgers):\n",
    "    if positive_intgers <= 1:\n",
    "        return False \n",
    "    for i in range(2, int(math.sqrt(positive_intgers)) + 1):\n",
    "        if positive_intgers % i == 0: \n",
    "            return False\n",
    "    return True  \n",
    "    \n",
    "number = int(input(\"please enter number to check prime numbers only: \"))\n",
    "if prime_checker(number):\n",
    "    print(f\"{number} its a prime number!\")\n",
    "else:\n",
    "    print(f\"{number} its not a prime number.\")"
   ]
  },
  {
   "cell_type": "markdown",
   "id": "a652a291-5103-4a07-9963-27d944cc323c",
   "metadata": {
    "id": "bea983a3"
   },
   "source": [
    "---\n",
    "\n",
    "### Exercise 49:\n",
    "Write a Python program that checks if a number is within 1 of a multiple of 10.\n",
    "\n",
    "```python\n",
    "# Exercise 49\n",
    "```"
   ]
  },
  {
   "cell_type": "code",
   "execution_count": 146,
   "id": "f2f3bb14-9483-40cc-acbb-a7801cb1a76e",
   "metadata": {},
   "outputs": [],
   "source": [
    "def multiple_checker(number):\n",
    "    return number % 10 == 1 or number % 10 == 0 or number % 10 == 9\n",
    "    my_number = int(input(\"Please enter a number:  \"))\n",
    "    if multiple_checker(number):\n",
    "        print(\"number is within 1 and 10\", number)\n",
    "    else:\n",
    "        print(\"number is not within 1 and 10\", number)"
   ]
  },
  {
   "cell_type": "markdown",
   "id": "7adce5bc-1337-4f6e-8114-882bbcafaea7",
   "metadata": {
    "id": "bea983a3"
   },
   "source": [
    "---\n",
    "\n",
    "### Exercise 50:\n",
    "Write a Python program that prints \"In range\" if a number is between 10 and 20 (inclusive), otherwise it prints \"Out of range.\"\n",
    "\n",
    "```python\n",
    "# Exercise 50\n",
    "```"
   ]
  },
  {
   "cell_type": "code",
   "execution_count": 150,
   "id": "2c1307ed-67c5-401a-81e2-769c5634d3ba",
   "metadata": {},
   "outputs": [
    {
     "name": "stdin",
     "output_type": "stream",
     "text": [
      "please input a number:  20\n"
     ]
    },
    {
     "name": "stdout",
     "output_type": "stream",
     "text": [
      "In range\n"
     ]
    }
   ],
   "source": [
    "def range_checker(number):\n",
    "    if 10 <= number <= 20:\n",
    "        print(\"In range\")\n",
    "    else:\n",
    "        print(\"Out of range\")\n",
    "        \n",
    "my_number = int(input(\"please input a number: \"))\n",
    "range_checker(my_number)"
   ]
  },
  {
   "cell_type": "markdown",
   "id": "c6b3f855-9916-46c3-bf91-0dcda81cdd5c",
   "metadata": {
    "id": "bea983a3"
   },
   "source": [
    "---"
   ]
  }
 ],
 "metadata": {
  "colab": {
   "provenance": []
  },
  "kernelspec": {
   "display_name": "Python [conda env:base] *",
   "language": "python",
   "name": "conda-base-py"
  },
  "language_info": {
   "codemirror_mode": {
    "name": "ipython",
    "version": 3
   },
   "file_extension": ".py",
   "mimetype": "text/x-python",
   "name": "python",
   "nbconvert_exporter": "python",
   "pygments_lexer": "ipython3",
   "version": "3.13.5"
  }
 },
 "nbformat": 4,
 "nbformat_minor": 5
}
